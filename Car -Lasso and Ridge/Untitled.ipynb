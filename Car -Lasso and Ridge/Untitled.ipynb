{
 "cells": [
  {
   "cell_type": "markdown",
   "metadata": {},
   "source": [
    "## Car  Assignment\n",
    "\n",
    "- Build a linear model to infer how the price of car varies with independent variables\n",
    "- steps involved in model\n",
    "   - 1.Data Exploration\n",
    "   - 2.Data visualization\n",
    "   - 3.Data preprocessing\n",
    "   - 4.Feature selection\n",
    "   - 5.Model building\n",
    "   - 6.Residual analysis\n",
    "   - 7.Model Evaluation\n",
    "\n"
   ]
  },
  {
   "cell_type": "code",
   "execution_count": 2,
   "metadata": {},
   "outputs": [
    {
     "name": "stdout",
     "output_type": "stream",
     "text": [
      "<class 'pandas.core.frame.DataFrame'>\n",
      "RangeIndex: 205 entries, 0 to 204\n",
      "Data columns (total 26 columns):\n",
      "car_ID              205 non-null int64\n",
      "symboling           205 non-null int64\n",
      "CarName             205 non-null object\n",
      "fueltype            205 non-null object\n",
      "aspiration          205 non-null object\n",
      "doornumber          205 non-null object\n",
      "carbody             205 non-null object\n",
      "drivewheel          205 non-null object\n",
      "enginelocation      205 non-null object\n",
      "wheelbase           205 non-null float64\n",
      "carlength           205 non-null float64\n",
      "carwidth            205 non-null float64\n",
      "carheight           205 non-null float64\n",
      "curbweight          205 non-null int64\n",
      "enginetype          205 non-null object\n",
      "cylindernumber      205 non-null object\n",
      "enginesize          205 non-null int64\n",
      "fuelsystem          205 non-null object\n",
      "boreratio           205 non-null float64\n",
      "stroke              205 non-null float64\n",
      "compressionratio    205 non-null float64\n",
      "horsepower          205 non-null int64\n",
      "peakrpm             205 non-null int64\n",
      "citympg             205 non-null int64\n",
      "highwaympg          205 non-null int64\n",
      "price               205 non-null float64\n",
      "dtypes: float64(8), int64(8), object(10)\n",
      "memory usage: 41.7+ KB\n"
     ]
    }
   ],
   "source": [
    "## Data Exploration\n",
    "\n",
    "#import required libraries\n",
    "import numpy as np\n",
    "import pandas as pd\n",
    "import matplotlib.pyplot as plt\n",
    "import seaborn as sns\n",
    "from warnings import filterwarnings\n",
    "filterwarnings('ignore')\n",
    "\n",
    "#loading the data\n",
    "cars=pd.read_csv('CarPrice_Assignment.csv')\n",
    "\n",
    "cars_df=cars.copy()\n",
    "\n",
    "#preview the data\n",
    "cars_df.head()\n",
    "\n",
    "#exploring thr data\n",
    "cars_df.info()"
   ]
  },
  {
   "cell_type": "markdown",
   "metadata": {},
   "source": [
    "- The given data has no missing values"
   ]
  },
  {
   "cell_type": "code",
   "execution_count": 3,
   "metadata": {},
   "outputs": [
    {
     "data": {
      "text/plain": [
       "0      alfa-romero\n",
       "1      alfa-romero\n",
       "2      alfa-romero\n",
       "3             audi\n",
       "4             audi\n",
       "5             audi\n",
       "6             audi\n",
       "7             audi\n",
       "8             audi\n",
       "9             audi\n",
       "10             bmw\n",
       "11             bmw\n",
       "12             bmw\n",
       "13             bmw\n",
       "14             bmw\n",
       "15             bmw\n",
       "16             bmw\n",
       "17             bmw\n",
       "18       chevrolet\n",
       "19       chevrolet\n",
       "20       chevrolet\n",
       "21           dodge\n",
       "22           dodge\n",
       "23           dodge\n",
       "24           dodge\n",
       "25           dodge\n",
       "26           dodge\n",
       "27           dodge\n",
       "28           dodge\n",
       "29           dodge\n",
       "          ...     \n",
       "175         toyota\n",
       "176         toyota\n",
       "177         toyota\n",
       "178         toyota\n",
       "179         toyota\n",
       "180         toyota\n",
       "181         toyota\n",
       "182     volkswagen\n",
       "183     volkswagen\n",
       "184     volkswagen\n",
       "185     volkswagen\n",
       "186     volkswagen\n",
       "187     volkswagen\n",
       "188     volkswagen\n",
       "189     volkswagen\n",
       "190     volkswagen\n",
       "191     volkswagen\n",
       "192     volkswagen\n",
       "193     volkswagen\n",
       "194          volvo\n",
       "195          volvo\n",
       "196          volvo\n",
       "197          volvo\n",
       "198          volvo\n",
       "199          volvo\n",
       "200          volvo\n",
       "201          volvo\n",
       "202          volvo\n",
       "203          volvo\n",
       "204          volvo\n",
       "Name: carname, Length: 205, dtype: object"
      ]
     },
     "execution_count": 3,
     "metadata": {},
     "output_type": "execute_result"
    }
   ],
   "source": [
    "cars_df.describe()\n",
    "\n",
    "cars_df['CarName']\n",
    "\n",
    "#function to get only carname from CarName columns(having carname model)\n",
    "def get_carName(car):\n",
    "    return car.split()[0]\n",
    "\n",
    "cars_df['carname']=cars_df['CarName'].apply(get_carName)\n",
    "\n",
    "#function which corrects the miss spelled car names\n",
    "def correct_carnames(x):\n",
    "    if x=='toyouta':\n",
    "        return 'toyota'\n",
    "    elif x=='Nissan':\n",
    "        return 'nissan'\n",
    "    elif (x=='vw') | (x=='vokswagen'):\n",
    "        return 'volkswagen'\n",
    "    elif x=='porcshce':\n",
    "        return 'porsche'\n",
    "    elif x=='maxda':\n",
    "        return 'mazda'\n",
    "    else:\n",
    "        return x\n",
    "\n",
    "cars_df['carname']=cars_df['carname'].apply(correct_carnames)\n",
    "\n",
    "cars_df['carname']"
   ]
  },
  {
   "cell_type": "markdown",
   "metadata": {},
   "source": [
    "## Data Visualization\n",
    "- visualizing the categorical variables using box and count plots"
   ]
  },
  {
   "cell_type": "code",
   "execution_count": 5,
   "metadata": {},
   "outputs": [
    {
     "data": {
      "text/plain": [
       "<matplotlib.axes._subplots.AxesSubplot at 0x22756deca58>"
      ]
     },
     "execution_count": 5,
     "metadata": {},
     "output_type": "execute_result"
    },
    {
     "data": {
      "image/png": "[encoded data removed]",
      "text/plain": [
       "<Figure size 576x288 with 2 Axes>"
      ]
     },
     "metadata": {
      "needs_background": "light"
     },
     "output_type": "display_data"
    }
   ],
   "source": [
    "#Univariant analysis and segmented analysis\n",
    "\n",
    "fig,(ax1,ax2)=plt.subplots(1,2,figsize=(8,4))\n",
    "sns.boxplot(cars_df['symboling'],orient='v',ax=ax1)\n",
    "sns.countplot(cars_df['symboling'],ax=ax2)\n",
    "#avearge symboling of all caars is around 1"
   ]
  },
  {
   "cell_type": "code",
   "execution_count": 6,
   "metadata": {},
   "outputs": [
    {
     "data": {
      "text/plain": [
       "<matplotlib.axes._subplots.AxesSubplot at 0x22756e89fd0>"
      ]
     },
     "execution_count": 6,
     "metadata": {},
     "output_type": "execute_result"
    },
    {
     "data": {
      "image/png": "[encoded data removed]",
      "text/plain": [
       "<Figure size 432x288 with 1 Axes>"
      ]
     },
     "metadata": {
      "needs_background": "light"
     },
     "output_type": "display_data"
    }
   ],
   "source": [
    "sns.boxplot(cars_df['wheelbase'],orient='v')\n",
    "#average wheelbase of all cars is around 96"
   ]
  },
  {
   "cell_type": "code",
   "execution_count": 7,
   "metadata": {},
   "outputs": [
    {
     "data": {
      "text/plain": [
       "<matplotlib.axes._subplots.AxesSubplot at 0x22756eca9e8>"
      ]
     },
     "execution_count": 7,
     "metadata": {},
     "output_type": "execute_result"
    },
    {
     "data": {
      "image/png": "[encoded data removed]",
      "text/plain": [
       "<Figure size 432x288 with 1 Axes>"
      ]
     },
     "metadata": {
      "needs_background": "light"
     },
     "output_type": "display_data"
    }
   ],
   "source": [
    "sns.countplot(cars_df['fueltype'])\n",
    "# most of the cars are gas based compared to diesel"
   ]
  },
  {
   "cell_type": "code",
   "execution_count": 8,
   "metadata": {},
   "outputs": [
    {
     "data": {
      "text/plain": [
       "<matplotlib.axes._subplots.AxesSubplot at 0x22756f12a20>"
      ]
     },
     "execution_count": 8,
     "metadata": {},
     "output_type": "execute_result"
    },
    {
     "data": {
      "image/png": "[encoded data removed]",
      "text/plain": [
       "<Figure size 432x288 with 1 Axes>"
      ]
     },
     "metadata": {
      "needs_background": "light"
     },
     "output_type": "display_data"
    }
   ],
   "source": [
    "sns.countplot(cars_df['aspiration'])\n",
    "#most of the cars has std as aspiration"
   ]
  },
  {
   "cell_type": "code",
   "execution_count": 9,
   "metadata": {},
   "outputs": [
    {
     "data": {
      "text/plain": [
       "<matplotlib.axes._subplots.AxesSubplot at 0x22756f9db70>"
      ]
     },
     "execution_count": 9,
     "metadata": {},
     "output_type": "execute_result"
    },
    {
     "data": {
      "image/png": "[encoded data removed]",
      "text/plain": [
       "<Figure size 432x288 with 1 Axes>"
      ]
     },
     "metadata": {
      "needs_background": "light"
     },
     "output_type": "display_data"
    }
   ],
   "source": [
    "sns.countplot(cars_df['doornumber'])\n",
    "# most number of cars has 4 doors"
   ]
  },
  {
   "cell_type": "code",
   "execution_count": 10,
   "metadata": {},
   "outputs": [
    {
     "data": {
      "text/plain": [
       "<matplotlib.axes._subplots.AxesSubplot at 0x22756fe63c8>"
      ]
     },
     "execution_count": 10,
     "metadata": {},
     "output_type": "execute_result"
    },
    {
     "data": {
      "image/png": "[encoded data removed]",
      "text/plain": [
       "<Figure size 432x288 with 1 Axes>"
      ]
     },
     "metadata": {
      "needs_background": "light"
     },
     "output_type": "display_data"
    }
   ],
   "source": [
    "sns.countplot(cars_df['cylindernumber'])"
   ]
  },
  {
   "cell_type": "code",
   "execution_count": 11,
   "metadata": {},
   "outputs": [
    {
     "data": {
      "text/plain": [
       "<matplotlib.axes._subplots.AxesSubplot at 0x22756d19780>"
      ]
     },
     "execution_count": 11,
     "metadata": {},
     "output_type": "execute_result"
    },
    {
     "data": {
      "image/png": "[encoded data removed]",
      "text/plain": [
       "<Figure size 432x288 with 1 Axes>"
      ]
     },
     "metadata": {
      "needs_background": "light"
     },
     "output_type": "display_data"
    }
   ],
   "source": [
    "sns.countplot(cars_df['carbody'])\n",
    "\n",
    "#most of the cars has sedan carbody and least cars have convertible carbody types"
   ]
  },
  {
   "cell_type": "code",
   "execution_count": 12,
   "metadata": {},
   "outputs": [
    {
     "data": {
      "text/plain": [
       "<matplotlib.axes._subplots.AxesSubplot at 0x22756c95b38>"
      ]
     },
     "execution_count": 12,
     "metadata": {},
     "output_type": "execute_result"
    },
    {
     "data": {
      "image/png": "[encoded data removed]",
      "text/plain": [
       "<Figure size 432x288 with 1 Axes>"
      ]
     },
     "metadata": {
      "needs_background": "light"
     },
     "output_type": "display_data"
    }
   ],
   "source": [
    "sns.countplot(cars_df['drivewheel'])\n",
    "\n",
    "#most cars have fwd drivewheel"
   ]
  },
  {
   "cell_type": "code",
   "execution_count": 13,
   "metadata": {},
   "outputs": [
    {
     "data": {
      "text/plain": [
       "<matplotlib.axes._subplots.AxesSubplot at 0x22756cc57f0>"
      ]
     },
     "execution_count": 13,
     "metadata": {},
     "output_type": "execute_result"
    },
    {
     "data": {
      "image/png": "[encoded data removed]",
      "text/plain": [
       "<Figure size 432x288 with 1 Axes>"
      ]
     },
     "metadata": {
      "needs_background": "light"
     },
     "output_type": "display_data"
    }
   ],
   "source": [
    "sns.countplot(cars_df['fuelsystem'])\n",
    "\n",
    "#most cars have mpfi fuelsystem"
   ]
  },
  {
   "cell_type": "code",
   "execution_count": 14,
   "metadata": {},
   "outputs": [
    {
     "data": {
      "text/plain": [
       "<matplotlib.axes._subplots.AxesSubplot at 0x22756cba7f0>"
      ]
     },
     "execution_count": 14,
     "metadata": {},
     "output_type": "execute_result"
    },
    {
     "data": {
      "image/png": "[encoded data removed]",
      "text/plain": [
       "<Figure size 432x288 with 1 Axes>"
      ]
     },
     "metadata": {
      "needs_background": "light"
     },
     "output_type": "display_data"
    }
   ],
   "source": [
    "sns.countplot(cars_df['enginelocation'])\n",
    "\n",
    "#most cars engine is located at front"
   ]
  },
  {
   "cell_type": "code",
   "execution_count": 15,
   "metadata": {},
   "outputs": [
    {
     "data": {
      "image/png": "[encoded data removed]",
      "text/plain": [
       "<Figure size 432x288 with 1 Axes>"
      ]
     },
     "metadata": {
      "needs_background": "light"
     },
     "output_type": "display_data"
    }
   ],
   "source": [
    "fig=sns.countplot(cars_df['carname'])\n",
    "fig.set_xticklabels(fig.get_xticklabels(),rotation=90)\n",
    "plt.show()\n",
    "\n",
    "#in given data set we have more toyato company cars"
   ]
  },
  {
   "cell_type": "code",
   "execution_count": 16,
   "metadata": {},
   "outputs": [
    {
     "data": {
      "text/plain": [
       "<matplotlib.axes._subplots.AxesSubplot at 0x22756b73e10>"
      ]
     },
     "execution_count": 16,
     "metadata": {},
     "output_type": "execute_result"
    },
    {
     "data": {
      "image/png": "[encoded data removed]",
      "text/plain": [
       "<Figure size 432x288 with 1 Axes>"
      ]
     },
     "metadata": {
      "needs_background": "light"
     },
     "output_type": "display_data"
    }
   ],
   "source": [
    "sns.boxplot(cars_df['carlength'],orient='v')\n",
    "\n",
    "#average carlength of given cars is around 175"
   ]
  },
  {
   "cell_type": "code",
   "execution_count": 17,
   "metadata": {},
   "outputs": [
    {
     "data": {
      "text/plain": [
       "<matplotlib.axes._subplots.AxesSubplot at 0x227570ed128>"
      ]
     },
     "execution_count": 17,
     "metadata": {},
     "output_type": "execute_result"
    },
    {
     "data": {
      "image/png": "[encoded data removed]",
      "text/plain": [
       "<Figure size 432x288 with 1 Axes>"
      ]
     },
     "metadata": {
      "needs_background": "light"
     },
     "output_type": "display_data"
    }
   ],
   "source": [
    "sns.boxplot(cars_df['enginesize'],orient='v')\n",
    "\n",
    "#average enginesize of given cars is around 125"
   ]
  },
  {
   "cell_type": "code",
   "execution_count": null,
   "metadata": {},
   "outputs": [],
   "source": []
  },
  {
   "cell_type": "code",
   "execution_count": 18,
   "metadata": {},
   "outputs": [
    {
     "data": {
      "text/plain": [
       "<matplotlib.axes._subplots.AxesSubplot at 0x2275714c6d8>"
      ]
     },
     "execution_count": 18,
     "metadata": {},
     "output_type": "execute_result"
    },
    {
     "data": {
      "image/png": "[encoded data removed]",
      "text/plain": [
       "<Figure size 432x288 with 1 Axes>"
      ]
     },
     "metadata": {
      "needs_background": "light"
     },
     "output_type": "display_data"
    }
   ],
   "source": [
    "sns.boxplot(cars_df['compressionratio'],orient='v')\n",
    "\n",
    "#average carlength of given cars is around 9 but there are cars with more than 22 compression ratio"
   ]
  },
  {
   "cell_type": "code",
   "execution_count": 20,
   "metadata": {},
   "outputs": [
    {
     "data": {
      "text/html": [
       "<div>\n",
       "<style scoped>\n",
       "    .dataframe tbody tr th:only-of-type {\n",
       "        vertical-align: middle;\n",
       "    }\n",
       "\n",
       "    .dataframe tbody tr th {\n",
       "        vertical-align: top;\n",
       "    }\n",
       "\n",
       "    .dataframe thead th {\n",
       "        text-align: right;\n",
       "    }\n",
       "</style>\n",
       "<table border=\"1\" class=\"dataframe\">\n",
       "  <thead>\n",
       "    <tr style=\"text-align: right;\">\n",
       "      <th></th>\n",
       "      <th>car_ID</th>\n",
       "      <th>symboling</th>\n",
       "      <th>wheelbase</th>\n",
       "      <th>carlength</th>\n",
       "      <th>carwidth</th>\n",
       "      <th>carheight</th>\n",
       "      <th>curbweight</th>\n",
       "      <th>enginesize</th>\n",
       "      <th>boreratio</th>\n",
       "      <th>stroke</th>\n",
       "      <th>compressionratio</th>\n",
       "      <th>horsepower</th>\n",
       "      <th>peakrpm</th>\n",
       "      <th>citympg</th>\n",
       "      <th>highwaympg</th>\n",
       "      <th>price</th>\n",
       "    </tr>\n",
       "  </thead>\n",
       "  <tbody>\n",
       "    <tr>\n",
       "      <th>count</th>\n",
       "      <td>205.000000</td>\n",
       "      <td>205.000000</td>\n",
       "      <td>205.000000</td>\n",
       "      <td>205.000000</td>\n",
       "      <td>205.000000</td>\n",
       "      <td>205.000000</td>\n",
       "      <td>205.000000</td>\n",
       "      <td>205.000000</td>\n",
       "      <td>205.000000</td>\n",
       "      <td>205.000000</td>\n",
       "      <td>205.000000</td>\n",
       "      <td>205.000000</td>\n",
       "      <td>205.000000</td>\n",
       "      <td>205.000000</td>\n",
       "      <td>205.000000</td>\n",
       "      <td>205.000000</td>\n",
       "    </tr>\n",
       "    <tr>\n",
       "      <th>mean</th>\n",
       "      <td>103.000000</td>\n",
       "      <td>0.834146</td>\n",
       "      <td>98.756585</td>\n",
       "      <td>174.049268</td>\n",
       "      <td>65.907805</td>\n",
       "      <td>53.724878</td>\n",
       "      <td>2555.565854</td>\n",
       "      <td>126.907317</td>\n",
       "      <td>3.329756</td>\n",
       "      <td>3.255415</td>\n",
       "      <td>10.142537</td>\n",
       "      <td>104.117073</td>\n",
       "      <td>5125.121951</td>\n",
       "      <td>25.219512</td>\n",
       "      <td>30.751220</td>\n",
       "      <td>13276.710571</td>\n",
       "    </tr>\n",
       "    <tr>\n",
       "      <th>std</th>\n",
       "      <td>59.322565</td>\n",
       "      <td>1.245307</td>\n",
       "      <td>6.021776</td>\n",
       "      <td>12.337289</td>\n",
       "      <td>2.145204</td>\n",
       "      <td>2.443522</td>\n",
       "      <td>520.680204</td>\n",
       "      <td>41.642693</td>\n",
       "      <td>0.270844</td>\n",
       "      <td>0.313597</td>\n",
       "      <td>3.972040</td>\n",
       "      <td>39.544167</td>\n",
       "      <td>476.985643</td>\n",
       "      <td>6.542142</td>\n",
       "      <td>6.886443</td>\n",
       "      <td>7988.852332</td>\n",
       "    </tr>\n",
       "    <tr>\n",
       "      <th>min</th>\n",
       "      <td>1.000000</td>\n",
       "      <td>-2.000000</td>\n",
       "      <td>86.600000</td>\n",
       "      <td>141.100000</td>\n",
       "      <td>60.300000</td>\n",
       "      <td>47.800000</td>\n",
       "      <td>1488.000000</td>\n",
       "      <td>61.000000</td>\n",
       "      <td>2.540000</td>\n",
       "      <td>2.070000</td>\n",
       "      <td>7.000000</td>\n",
       "      <td>48.000000</td>\n",
       "      <td>4150.000000</td>\n",
       "      <td>13.000000</td>\n",
       "      <td>16.000000</td>\n",
       "      <td>5118.000000</td>\n",
       "    </tr>\n",
       "    <tr>\n",
       "      <th>25%</th>\n",
       "      <td>52.000000</td>\n",
       "      <td>0.000000</td>\n",
       "      <td>94.500000</td>\n",
       "      <td>166.300000</td>\n",
       "      <td>64.100000</td>\n",
       "      <td>52.000000</td>\n",
       "      <td>2145.000000</td>\n",
       "      <td>97.000000</td>\n",
       "      <td>3.150000</td>\n",
       "      <td>3.110000</td>\n",
       "      <td>8.600000</td>\n",
       "      <td>70.000000</td>\n",
       "      <td>4800.000000</td>\n",
       "      <td>19.000000</td>\n",
       "      <td>25.000000</td>\n",
       "      <td>7788.000000</td>\n",
       "    </tr>\n",
       "    <tr>\n",
       "      <th>50%</th>\n",
       "      <td>103.000000</td>\n",
       "      <td>1.000000</td>\n",
       "      <td>97.000000</td>\n",
       "      <td>173.200000</td>\n",
       "      <td>65.500000</td>\n",
       "      <td>54.100000</td>\n",
       "      <td>2414.000000</td>\n",
       "      <td>120.000000</td>\n",
       "      <td>3.310000</td>\n",
       "      <td>3.290000</td>\n",
       "      <td>9.000000</td>\n",
       "      <td>95.000000</td>\n",
       "      <td>5200.000000</td>\n",
       "      <td>24.000000</td>\n",
       "      <td>30.000000</td>\n",
       "      <td>10295.000000</td>\n",
       "    </tr>\n",
       "    <tr>\n",
       "      <th>75%</th>\n",
       "      <td>154.000000</td>\n",
       "      <td>2.000000</td>\n",
       "      <td>102.400000</td>\n",
       "      <td>183.100000</td>\n",
       "      <td>66.900000</td>\n",
       "      <td>55.500000</td>\n",
       "      <td>2935.000000</td>\n",
       "      <td>141.000000</td>\n",
       "      <td>3.580000</td>\n",
       "      <td>3.410000</td>\n",
       "      <td>9.400000</td>\n",
       "      <td>116.000000</td>\n",
       "      <td>5500.000000</td>\n",
       "      <td>30.000000</td>\n",
       "      <td>34.000000</td>\n",
       "      <td>16503.000000</td>\n",
       "    </tr>\n",
       "    <tr>\n",
       "      <th>max</th>\n",
       "      <td>205.000000</td>\n",
       "      <td>3.000000</td>\n",
       "      <td>120.900000</td>\n",
       "      <td>208.100000</td>\n",
       "      <td>72.300000</td>\n",
       "      <td>59.800000</td>\n",
       "      <td>4066.000000</td>\n",
       "      <td>326.000000</td>\n",
       "      <td>3.940000</td>\n",
       "      <td>4.170000</td>\n",
       "      <td>23.000000</td>\n",
       "      <td>288.000000</td>\n",
       "      <td>6600.000000</td>\n",
       "      <td>49.000000</td>\n",
       "      <td>54.000000</td>\n",
       "      <td>45400.000000</td>\n",
       "    </tr>\n",
       "  </tbody>\n",
       "</table>\n",
       "</div>"
      ],
      "text/plain": [
       "           car_ID   symboling   wheelbase   carlength    carwidth   carheight  \\\n",
       "count  205.000000  205.000000  205.000000  205.000000  205.000000  205.000000   \n",
       "mean   103.000000    0.834146   98.756585  174.049268   65.907805   53.724878   \n",
       "std     59.322565    1.245307    6.021776   12.337289    2.145204    2.443522   \n",
       "min      1.000000   -2.000000   86.600000  141.100000   60.300000   47.800000   \n",
       "25%     52.000000    0.000000   94.500000  166.300000   64.100000   52.000000   \n",
       "50%    103.000000    1.000000   97.000000  173.200000   65.500000   54.100000   \n",
       "75%    154.000000    2.000000  102.400000  183.100000   66.900000   55.500000   \n",
       "max    205.000000    3.000000  120.900000  208.100000   72.300000   59.800000   \n",
       "\n",
       "        curbweight  enginesize   boreratio      stroke  compressionratio  \\\n",
       "count   205.000000  205.000000  205.000000  205.000000        205.000000   \n",
       "mean   2555.565854  126.907317    3.329756    3.255415         10.142537   \n",
       "std     520.680204   41.642693    0.270844    0.313597          3.972040   \n",
       "min    1488.000000   61.000000    2.540000    2.070000          7.000000   \n",
       "25%    2145.000000   97.000000    3.150000    3.110000          8.600000   \n",
       "50%    2414.000000  120.000000    3.310000    3.290000          9.000000   \n",
       "75%    2935.000000  141.000000    3.580000    3.410000          9.400000   \n",
       "max    4066.000000  326.000000    3.940000    4.170000         23.000000   \n",
       "\n",
       "       horsepower      peakrpm     citympg  highwaympg         price  \n",
       "count  205.000000   205.000000  205.000000  205.000000    205.000000  \n",
       "mean   104.117073  5125.121951   25.219512   30.751220  13276.710571  \n",
       "std     39.544167   476.985643    6.542142    6.886443   7988.852332  \n",
       "min     48.000000  4150.000000   13.000000   16.000000   5118.000000  \n",
       "25%     70.000000  4800.000000   19.000000   25.000000   7788.000000  \n",
       "50%     95.000000  5200.000000   24.000000   30.000000  10295.000000  \n",
       "75%    116.000000  5500.000000   30.000000   34.000000  16503.000000  \n",
       "max    288.000000  6600.000000   49.000000   54.000000  45400.000000  "
      ]
     },
     "execution_count": 20,
     "metadata": {},
     "output_type": "execute_result"
    }
   ],
   "source": [
    "cars_df.describe()"
   ]
  },
  {
   "cell_type": "code",
   "execution_count": 21,
   "metadata": {},
   "outputs": [
    {
     "data": {
      "text/plain": [
       "Index(['car_ID', 'symboling', 'CarName', 'fueltype', 'aspiration',\n",
       "       'doornumber', 'carbody', 'drivewheel', 'enginelocation', 'wheelbase',\n",
       "       'carlength', 'carwidth', 'carheight', 'curbweight', 'enginetype',\n",
       "       'cylindernumber', 'enginesize', 'fuelsystem', 'boreratio', 'stroke',\n",
       "       'compressionratio', 'horsepower', 'peakrpm', 'citympg', 'highwaympg',\n",
       "       'price', 'carname'],\n",
       "      dtype='object')"
      ]
     },
     "execution_count": 21,
     "metadata": {},
     "output_type": "execute_result"
    }
   ],
   "source": [
    "cars_df.columns"
   ]
  },
  {
   "cell_type": "markdown",
   "metadata": {},
   "source": [
    "## Bivariate analysis\n",
    "- to find the correlation between the target and predictor variables"
   ]
  },
  {
   "cell_type": "code",
   "execution_count": 22,
   "metadata": {},
   "outputs": [
    {
     "data": {
      "text/plain": [
       "<matplotlib.axes._subplots.AxesSubplot at 0x227571d0048>"
      ]
     },
     "execution_count": 22,
     "metadata": {},
     "output_type": "execute_result"
    },
    {
     "data": {
      "image/png": "[encoded data removed]",
      "text/plain": [
       "<Figure size 432x288 with 1 Axes>"
      ]
     },
     "metadata": {
      "needs_background": "light"
     },
     "output_type": "display_data"
    }
   ],
   "source": [
    "sns.boxplot('symboling','price',data=cars_df)"
   ]
  },
  {
   "cell_type": "code",
   "execution_count": 23,
   "metadata": {},
   "outputs": [
    {
     "data": {
      "text/plain": [
       "<matplotlib.axes._subplots.AxesSubplot at 0x22757277da0>"
      ]
     },
     "execution_count": 23,
     "metadata": {},
     "output_type": "execute_result"
    },
    {
     "data": {
      "image/png": "[encoded data removed]",
      "text/plain": [
       "<Figure size 432x288 with 1 Axes>"
      ]
     },
     "metadata": {
      "needs_background": "light"
     },
     "output_type": "display_data"
    }
   ],
   "source": [
    "sns.boxplot('fueltype','price',data=cars_df)\n",
    "\n",
    "#diesel fueltype is having high price than gas fueltype"
   ]
  },
  {
   "cell_type": "code",
   "execution_count": 24,
   "metadata": {},
   "outputs": [
    {
     "data": {
      "text/plain": [
       "<matplotlib.axes._subplots.AxesSubplot at 0x22757313a58>"
      ]
     },
     "execution_count": 24,
     "metadata": {},
     "output_type": "execute_result"
    },
    {
     "data": {
      "image/png": "[encoded data removed]",
      "text/plain": [
       "<Figure size 432x288 with 1 Axes>"
      ]
     },
     "metadata": {
      "needs_background": "light"
     },
     "output_type": "display_data"
    }
   ],
   "source": [
    "sns.boxplot('aspiration','price',data=cars_df)\n",
    "\n",
    "#turbo aspiration has high price than std aspiration"
   ]
  },
  {
   "cell_type": "code",
   "execution_count": 25,
   "metadata": {},
   "outputs": [
    {
     "data": {
      "text/plain": [
       "<matplotlib.axes._subplots.AxesSubplot at 0x2275735f438>"
      ]
     },
     "execution_count": 25,
     "metadata": {},
     "output_type": "execute_result"
    },
    {
     "data": {
      "image/png": "[encoded data removed]",
      "text/plain": [
       "<Figure size 432x288 with 1 Axes>"
      ]
     },
     "metadata": {
      "needs_background": "light"
     },
     "output_type": "display_data"
    }
   ],
   "source": [
    "sns.boxplot('carbody','price',data=cars_df)\n",
    "\n",
    "#convertible carbody types has high price"
   ]
  },
  {
   "cell_type": "code",
   "execution_count": 26,
   "metadata": {},
   "outputs": [
    {
     "data": {
      "text/plain": [
       "<matplotlib.axes._subplots.AxesSubplot at 0x22757413588>"
      ]
     },
     "execution_count": 26,
     "metadata": {},
     "output_type": "execute_result"
    },
    {
     "data": {
      "image/png": "[encoded data removed]",
      "text/plain": [
       "<Figure size 432x288 with 1 Axes>"
      ]
     },
     "metadata": {
      "needs_background": "light"
     },
     "output_type": "display_data"
    }
   ],
   "source": [
    "sns.boxplot('drivewheel','price',data=cars_df)\n",
    "\n",
    "#rwd drivewheel has high price"
   ]
  },
  {
   "cell_type": "code",
   "execution_count": 27,
   "metadata": {},
   "outputs": [
    {
     "data": {
      "text/plain": [
       "<matplotlib.axes._subplots.AxesSubplot at 0x227574c2278>"
      ]
     },
     "execution_count": 27,
     "metadata": {},
     "output_type": "execute_result"
    },
    {
     "data": {
      "image/png": "[encoded data removed]",
      "text/plain": [
       "<Figure size 432x288 with 1 Axes>"
      ]
     },
     "metadata": {
      "needs_background": "light"
     },
     "output_type": "display_data"
    }
   ],
   "source": [
    "sns.boxplot('fuelsystem','price',data=cars_df)"
   ]
  },
  {
   "cell_type": "code",
   "execution_count": 28,
   "metadata": {},
   "outputs": [
    {
     "data": {
      "text/plain": [
       "<matplotlib.axes._subplots.AxesSubplot at 0x227575c9f28>"
      ]
     },
     "execution_count": 28,
     "metadata": {},
     "output_type": "execute_result"
    },
    {
     "data": {
      "image/png": "[encoded data removed]",
      "text/plain": [
       "<Figure size 432x288 with 1 Axes>"
      ]
     },
     "metadata": {
      "needs_background": "light"
     },
     "output_type": "display_data"
    }
   ],
   "source": [
    "sns.boxplot('doornumber','price',data=cars_df)"
   ]
  },
  {
   "cell_type": "code",
   "execution_count": 29,
   "metadata": {},
   "outputs": [
    {
     "data": {
      "text/plain": [
       "<matplotlib.axes._subplots.AxesSubplot at 0x22757640240>"
      ]
     },
     "execution_count": 29,
     "metadata": {},
     "output_type": "execute_result"
    },
    {
     "data": {
      "image/png": "[encoded data removed]",
      "text/plain": [
       "<Figure size 432x288 with 1 Axes>"
      ]
     },
     "metadata": {
      "needs_background": "light"
     },
     "output_type": "display_data"
    }
   ],
   "source": [
    "sns.boxplot('enginelocation','price',data=cars_df)\n",
    "\n",
    "#rear located engine type car has high value"
   ]
  },
  {
   "cell_type": "code",
   "execution_count": 30,
   "metadata": {},
   "outputs": [
    {
     "data": {
      "text/plain": [
       "<matplotlib.axes._subplots.AxesSubplot at 0x227575fbac8>"
      ]
     },
     "execution_count": 30,
     "metadata": {},
     "output_type": "execute_result"
    },
    {
     "data": {
      "image/png": "[encoded data removed]",
      "text/plain": [
       "<Figure size 432x288 with 1 Axes>"
      ]
     },
     "metadata": {
      "needs_background": "light"
     },
     "output_type": "display_data"
    }
   ],
   "source": [
    "sns.boxplot('cylindernumber','price',data=cars_df)\n",
    "\n",
    "#eight cylindered car has high price"
   ]
  },
  {
   "cell_type": "code",
   "execution_count": 31,
   "metadata": {},
   "outputs": [
    {
     "data": {
      "image/png": "[encoded data removed]",
      "text/plain": [
       "<Figure size 720x432 with 1 Axes>"
      ]
     },
     "metadata": {
      "needs_background": "light"
     },
     "output_type": "display_data"
    }
   ],
   "source": [
    "plt.figure(figsize=(10,6))\n",
    "fig=sns.boxplot('carname','price',data=cars_df)\n",
    "fig.set_xticklabels(fig.get_xticklabels(),rotation=90)\n",
    "plt.show()"
   ]
  },
  {
   "cell_type": "code",
   "execution_count": 32,
   "metadata": {},
   "outputs": [
    {
     "data": {
      "text/plain": [
       "<matplotlib.axes._subplots.AxesSubplot at 0x2275877bd30>"
      ]
     },
     "execution_count": 32,
     "metadata": {},
     "output_type": "execute_result"
    },
    {
     "data": {
      "image/png": "[encoded data removed]",
      "text/plain": [
       "<Figure size 432x288 with 1 Axes>"
      ]
     },
     "metadata": {
      "needs_background": "light"
     },
     "output_type": "display_data"
    }
   ],
   "source": [
    "sns.scatterplot('wheelbase','price',data=cars_df)\n",
    "\n",
    "#Wheelbase is positively correlated with price"
   ]
  },
  {
   "cell_type": "code",
   "execution_count": 33,
   "metadata": {},
   "outputs": [
    {
     "data": {
      "text/plain": [
       "<matplotlib.axes._subplots.AxesSubplot at 0x227589cbd30>"
      ]
     },
     "execution_count": 33,
     "metadata": {},
     "output_type": "execute_result"
    },
    {
     "data": {
      "image/png": "[encoded data removed]",
      "text/plain": [
       "<Figure size 432x288 with 1 Axes>"
      ]
     },
     "metadata": {
      "needs_background": "light"
     },
     "output_type": "display_data"
    }
   ],
   "source": [
    "sns.scatterplot('carlength','price',data=cars_df)\n",
    "\n",
    "#carlength is positively correlated with price"
   ]
  },
  {
   "cell_type": "code",
   "execution_count": 34,
   "metadata": {},
   "outputs": [
    {
     "data": {
      "text/plain": [
       "<matplotlib.axes._subplots.AxesSubplot at 0x22756ff2208>"
      ]
     },
     "execution_count": 34,
     "metadata": {},
     "output_type": "execute_result"
    },
    {
     "data": {
      "image/png": "[encoded data removed]",
      "text/plain": [
       "<Figure size 432x288 with 1 Axes>"
      ]
     },
     "metadata": {
      "needs_background": "light"
     },
     "output_type": "display_data"
    }
   ],
   "source": [
    "sns.scatterplot('carwidth','price',data=cars_df)\n",
    "\n",
    "#carwidth is positively correlated with price"
   ]
  },
  {
   "cell_type": "code",
   "execution_count": 35,
   "metadata": {},
   "outputs": [
    {
     "data": {
      "text/plain": [
       "<matplotlib.axes._subplots.AxesSubplot at 0x22757028048>"
      ]
     },
     "execution_count": 35,
     "metadata": {},
     "output_type": "execute_result"
    },
    {
     "data": {
      "image/png": "[encoded data removed]",
      "text/plain": [
       "<Figure size 432x288 with 1 Axes>"
      ]
     },
     "metadata": {
      "needs_background": "light"
     },
     "output_type": "display_data"
    }
   ],
   "source": [
    "sns.scatterplot('curbweight','price',data=cars_df)\n",
    "\n",
    "#curbweight is positively correlated with price"
   ]
  },
  {
   "cell_type": "code",
   "execution_count": 36,
   "metadata": {},
   "outputs": [
    {
     "data": {
      "text/plain": [
       "<matplotlib.axes._subplots.AxesSubplot at 0x22758a04ac8>"
      ]
     },
     "execution_count": 36,
     "metadata": {},
     "output_type": "execute_result"
    },
    {
     "data": {
      "image/png": "[encoded data removed]",
      "text/plain": [
       "<Figure size 432x288 with 1 Axes>"
      ]
     },
     "metadata": {
      "needs_background": "light"
     },
     "output_type": "display_data"
    }
   ],
   "source": [
    "sns.scatterplot('enginesize','price',data=cars_df)\n",
    "\n",
    "#enginesize is positively correlated with price"
   ]
  },
  {
   "cell_type": "code",
   "execution_count": 37,
   "metadata": {},
   "outputs": [
    {
     "data": {
      "text/plain": [
       "<matplotlib.axes._subplots.AxesSubplot at 0x22758aa40f0>"
      ]
     },
     "execution_count": 37,
     "metadata": {},
     "output_type": "execute_result"
    },
    {
     "data": {
      "image/png": "[encoded data removed]",
      "text/plain": [
       "<Figure size 432x288 with 1 Axes>"
      ]
     },
     "metadata": {
      "needs_background": "light"
     },
     "output_type": "display_data"
    }
   ],
   "source": [
    "sns.scatterplot('boreratio','price',data=cars_df)\n",
    "\n",
    "#boreratio is positively correlated with price"
   ]
  },
  {
   "cell_type": "code",
   "execution_count": 38,
   "metadata": {},
   "outputs": [
    {
     "data": {
      "text/plain": [
       "<matplotlib.axes._subplots.AxesSubplot at 0x22758c98748>"
      ]
     },
     "execution_count": 38,
     "metadata": {},
     "output_type": "execute_result"
    },
    {
     "data": {
      "image/png": "[encoded data removed]",
      "text/plain": [
       "<Figure size 432x288 with 1 Axes>"
      ]
     },
     "metadata": {
      "needs_background": "light"
     },
     "output_type": "display_data"
    }
   ],
   "source": [
    "sns.scatterplot('compressionratio','price',data=cars_df)"
   ]
  },
  {
   "cell_type": "code",
   "execution_count": 39,
   "metadata": {},
   "outputs": [
    {
     "data": {
      "text/plain": [
       "<matplotlib.axes._subplots.AxesSubplot at 0x22758c5c9b0>"
      ]
     },
     "execution_count": 39,
     "metadata": {},
     "output_type": "execute_result"
    },
    {
     "data": {
      "image/png": "[encoded data removed]",
      "text/plain": [
       "<Figure size 432x288 with 1 Axes>"
      ]
     },
     "metadata": {
      "needs_background": "light"
     },
     "output_type": "display_data"
    }
   ],
   "source": [
    "sns.scatterplot('horsepower','price',data=cars_df)\n",
    "\n",
    "#horsepower is positively correlated with price"
   ]
  },
  {
   "cell_type": "code",
   "execution_count": 40,
   "metadata": {},
   "outputs": [
    {
     "data": {
      "text/plain": [
       "<matplotlib.axes._subplots.AxesSubplot at 0x22758d709e8>"
      ]
     },
     "execution_count": 40,
     "metadata": {},
     "output_type": "execute_result"
    },
    {
     "data": {
      "image/png": "[encoded data removed]",
      "text/plain": [
       "<Figure size 432x288 with 1 Axes>"
      ]
     },
     "metadata": {
      "needs_background": "light"
     },
     "output_type": "display_data"
    }
   ],
   "source": [
    "sns.scatterplot('peakrpm','price',data=cars_df)\n"
   ]
  },
  {
   "cell_type": "code",
   "execution_count": 41,
   "metadata": {},
   "outputs": [
    {
     "data": {
      "text/plain": [
       "<matplotlib.axes._subplots.AxesSubplot at 0x22758db7390>"
      ]
     },
     "execution_count": 41,
     "metadata": {},
     "output_type": "execute_result"
    },
    {
     "data": {
      "image/png": "[encoded data removed]",
      "text/plain": [
       "<Figure size 432x288 with 1 Axes>"
      ]
     },
     "metadata": {
      "needs_background": "light"
     },
     "output_type": "display_data"
    }
   ],
   "source": [
    "sns.scatterplot('citympg','price',data=cars_df)\n",
    "\n",
    "#citympg is negatively correlated with price"
   ]
  },
  {
   "cell_type": "code",
   "execution_count": 42,
   "metadata": {},
   "outputs": [
    {
     "data": {
      "text/plain": [
       "<matplotlib.axes._subplots.AxesSubplot at 0x22758e469b0>"
      ]
     },
     "execution_count": 42,
     "metadata": {},
     "output_type": "execute_result"
    },
    {
     "data": {
      "image/png": "[encoded data removed]",
      "text/plain": [
       "<Figure size 432x288 with 1 Axes>"
      ]
     },
     "metadata": {
      "needs_background": "light"
     },
     "output_type": "display_data"
    }
   ],
   "source": [
    "sns.scatterplot('highwaympg','price',data=cars_df)\n",
    "\n",
    "#highwaympg is negatively correlated with price\n"
   ]
  },
  {
   "cell_type": "code",
   "execution_count": 43,
   "metadata": {},
   "outputs": [
    {
     "data": {
      "text/html": [
       "<div>\n",
       "<style scoped>\n",
       "    .dataframe tbody tr th:only-of-type {\n",
       "        vertical-align: middle;\n",
       "    }\n",
       "\n",
       "    .dataframe tbody tr th {\n",
       "        vertical-align: top;\n",
       "    }\n",
       "\n",
       "    .dataframe thead th {\n",
       "        text-align: right;\n",
       "    }\n",
       "</style>\n",
       "<table border=\"1\" class=\"dataframe\">\n",
       "  <thead>\n",
       "    <tr style=\"text-align: right;\">\n",
       "      <th></th>\n",
       "      <th>car_ID</th>\n",
       "      <th>symboling</th>\n",
       "      <th>CarName</th>\n",
       "      <th>fueltype</th>\n",
       "      <th>aspiration</th>\n",
       "      <th>doornumber</th>\n",
       "      <th>carbody</th>\n",
       "      <th>drivewheel</th>\n",
       "      <th>enginelocation</th>\n",
       "      <th>wheelbase</th>\n",
       "      <th>...</th>\n",
       "      <th>fuelsystem</th>\n",
       "      <th>boreratio</th>\n",
       "      <th>stroke</th>\n",
       "      <th>compressionratio</th>\n",
       "      <th>horsepower</th>\n",
       "      <th>peakrpm</th>\n",
       "      <th>citympg</th>\n",
       "      <th>highwaympg</th>\n",
       "      <th>price</th>\n",
       "      <th>carname</th>\n",
       "    </tr>\n",
       "  </thead>\n",
       "  <tbody>\n",
       "    <tr>\n",
       "      <th>0</th>\n",
       "      <td>1</td>\n",
       "      <td>3</td>\n",
       "      <td>alfa-romero giulia</td>\n",
       "      <td>gas</td>\n",
       "      <td>std</td>\n",
       "      <td>two</td>\n",
       "      <td>convertible</td>\n",
       "      <td>rwd</td>\n",
       "      <td>front</td>\n",
       "      <td>88.6</td>\n",
       "      <td>...</td>\n",
       "      <td>mpfi</td>\n",
       "      <td>3.47</td>\n",
       "      <td>2.68</td>\n",
       "      <td>9.0</td>\n",
       "      <td>111</td>\n",
       "      <td>5000</td>\n",
       "      <td>21</td>\n",
       "      <td>27</td>\n",
       "      <td>13495.0</td>\n",
       "      <td>alfa-romero</td>\n",
       "    </tr>\n",
       "    <tr>\n",
       "      <th>1</th>\n",
       "      <td>2</td>\n",
       "      <td>3</td>\n",
       "      <td>alfa-romero stelvio</td>\n",
       "      <td>gas</td>\n",
       "      <td>std</td>\n",
       "      <td>two</td>\n",
       "      <td>convertible</td>\n",
       "      <td>rwd</td>\n",
       "      <td>front</td>\n",
       "      <td>88.6</td>\n",
       "      <td>...</td>\n",
       "      <td>mpfi</td>\n",
       "      <td>3.47</td>\n",
       "      <td>2.68</td>\n",
       "      <td>9.0</td>\n",
       "      <td>111</td>\n",
       "      <td>5000</td>\n",
       "      <td>21</td>\n",
       "      <td>27</td>\n",
       "      <td>16500.0</td>\n",
       "      <td>alfa-romero</td>\n",
       "    </tr>\n",
       "    <tr>\n",
       "      <th>2</th>\n",
       "      <td>3</td>\n",
       "      <td>1</td>\n",
       "      <td>alfa-romero Quadrifoglio</td>\n",
       "      <td>gas</td>\n",
       "      <td>std</td>\n",
       "      <td>two</td>\n",
       "      <td>hatchback</td>\n",
       "      <td>rwd</td>\n",
       "      <td>front</td>\n",
       "      <td>94.5</td>\n",
       "      <td>...</td>\n",
       "      <td>mpfi</td>\n",
       "      <td>2.68</td>\n",
       "      <td>3.47</td>\n",
       "      <td>9.0</td>\n",
       "      <td>154</td>\n",
       "      <td>5000</td>\n",
       "      <td>19</td>\n",
       "      <td>26</td>\n",
       "      <td>16500.0</td>\n",
       "      <td>alfa-romero</td>\n",
       "    </tr>\n",
       "    <tr>\n",
       "      <th>3</th>\n",
       "      <td>4</td>\n",
       "      <td>2</td>\n",
       "      <td>audi 100 ls</td>\n",
       "      <td>gas</td>\n",
       "      <td>std</td>\n",
       "      <td>four</td>\n",
       "      <td>sedan</td>\n",
       "      <td>fwd</td>\n",
       "      <td>front</td>\n",
       "      <td>99.8</td>\n",
       "      <td>...</td>\n",
       "      <td>mpfi</td>\n",
       "      <td>3.19</td>\n",
       "      <td>3.40</td>\n",
       "      <td>10.0</td>\n",
       "      <td>102</td>\n",
       "      <td>5500</td>\n",
       "      <td>24</td>\n",
       "      <td>30</td>\n",
       "      <td>13950.0</td>\n",
       "      <td>audi</td>\n",
       "    </tr>\n",
       "    <tr>\n",
       "      <th>4</th>\n",
       "      <td>5</td>\n",
       "      <td>2</td>\n",
       "      <td>audi 100ls</td>\n",
       "      <td>gas</td>\n",
       "      <td>std</td>\n",
       "      <td>four</td>\n",
       "      <td>sedan</td>\n",
       "      <td>4wd</td>\n",
       "      <td>front</td>\n",
       "      <td>99.4</td>\n",
       "      <td>...</td>\n",
       "      <td>mpfi</td>\n",
       "      <td>3.19</td>\n",
       "      <td>3.40</td>\n",
       "      <td>8.0</td>\n",
       "      <td>115</td>\n",
       "      <td>5500</td>\n",
       "      <td>18</td>\n",
       "      <td>22</td>\n",
       "      <td>17450.0</td>\n",
       "      <td>audi</td>\n",
       "    </tr>\n",
       "  </tbody>\n",
       "</table>\n",
       "<p>5 rows × 27 columns</p>\n",
       "</div>"
      ],
      "text/plain": [
       "   car_ID  symboling                   CarName fueltype aspiration doornumber  \\\n",
       "0       1          3        alfa-romero giulia      gas        std        two   \n",
       "1       2          3       alfa-romero stelvio      gas        std        two   \n",
       "2       3          1  alfa-romero Quadrifoglio      gas        std        two   \n",
       "3       4          2               audi 100 ls      gas        std       four   \n",
       "4       5          2                audi 100ls      gas        std       four   \n",
       "\n",
       "       carbody drivewheel enginelocation  wheelbase  ...  fuelsystem  \\\n",
       "0  convertible        rwd          front       88.6  ...        mpfi   \n",
       "1  convertible        rwd          front       88.6  ...        mpfi   \n",
       "2    hatchback        rwd          front       94.5  ...        mpfi   \n",
       "3        sedan        fwd          front       99.8  ...        mpfi   \n",
       "4        sedan        4wd          front       99.4  ...        mpfi   \n",
       "\n",
       "   boreratio  stroke  compressionratio horsepower peakrpm  citympg highwaympg  \\\n",
       "0       3.47    2.68               9.0        111    5000       21         27   \n",
       "1       3.47    2.68               9.0        111    5000       21         27   \n",
       "2       2.68    3.47               9.0        154    5000       19         26   \n",
       "3       3.19    3.40              10.0        102    5500       24         30   \n",
       "4       3.19    3.40               8.0        115    5500       18         22   \n",
       "\n",
       "     price      carname  \n",
       "0  13495.0  alfa-romero  \n",
       "1  16500.0  alfa-romero  \n",
       "2  16500.0  alfa-romero  \n",
       "3  13950.0         audi  \n",
       "4  17450.0         audi  \n",
       "\n",
       "[5 rows x 27 columns]"
      ]
     },
     "execution_count": 43,
     "metadata": {},
     "output_type": "execute_result"
    }
   ],
   "source": [
    "cars_df.head()\n"
   ]
  },
  {
   "cell_type": "markdown",
   "metadata": {},
   "source": [
    "## Encoding\n",
    "\n",
    "- Encoding categorical variables to numerical variables"
   ]
  },
  {
   "cell_type": "code",
   "execution_count": null,
   "metadata": {},
   "outputs": [],
   "source": []
  },
  {
   "cell_type": "code",
   "execution_count": null,
   "metadata": {},
   "outputs": [],
   "source": []
  },
  {
   "cell_type": "code",
   "execution_count": null,
   "metadata": {},
   "outputs": [],
   "source": []
  },
  {
   "cell_type": "code",
   "execution_count": null,
   "metadata": {},
   "outputs": [],
   "source": []
  },
  {
   "cell_type": "code",
   "execution_count": null,
   "metadata": {},
   "outputs": [],
   "source": []
  },
  {
   "cell_type": "code",
   "execution_count": 44,
   "metadata": {},
   "outputs": [
    {
     "data": {
      "text/plain": [
       "41"
      ]
     },
     "execution_count": 44,
     "metadata": {},
     "output_type": "execute_result"
    }
   ],
   "source": [
    "\n",
    "\n",
    "cars_df['fueltype'].value_counts()\n",
    "\n",
    "#Converting fueltype using binary encoding\n",
    "cars_df['fueltype']=cars_df['fueltype'].map({'gas':1,'diesel':0})\n",
    "\n",
    "cars_df['doornumber'].value_counts()\n",
    "\n",
    "from sklearn.preprocessing import LabelEncoder\n",
    "\n",
    "label=LabelEncoder()\n",
    "\n",
    "#converting string value to integer value using map so that label encoder encoding the ordinal number based on value\n",
    "cars_df['doornumber']=cars_df['doornumber'].map({'four':4,'two':2})\n",
    "\n",
    "#converting doornumber using label encoder as doornumber is a ordinal categorical variable\n",
    "cars_df['doornumber']=label.fit_transform(cars_df['doornumber'])\n",
    "\n",
    "cars_df['carbody'].value_counts()\n",
    "\n",
    "# using one hot encoding to transform categorical carbody variable to numerical\n",
    "cars_df[['convertible','hatchback','sedan','wagon']]=pd.get_dummies(cars_df['carbody']).drop('hardtop',axis=1)\n",
    "\n",
    "cars_df.drop('carbody',axis=1,inplace=True)\n",
    "\n",
    "cars_df.head()\n",
    "\n",
    "cars_df['aspiration'].value_counts()\n",
    "\n",
    "#converting aspiration using binary encoding\n",
    "cars_df['aspiration']=cars_df['aspiration'].map({'std':1,'turbo':0})\n",
    "\n",
    "cars_df.head()\n",
    "\n",
    "cars_df['drivewheel'].value_counts()\n",
    "\n",
    "cars_df['drivewheel'].value_counts().index\n",
    "\n",
    "#converting drivewheel categorical to numerical using one hot encoding\n",
    "cars_df[['fwd', 'rwd']]=pd.get_dummies(cars_df['drivewheel']).drop('4wd',axis=1)\n",
    "\n",
    "cars_df.drop('drivewheel',axis=1,inplace=True)\n",
    "\n",
    "cars_df.head()\n",
    "\n",
    "cars_df['enginelocation'].value_counts()\n",
    "\n",
    "#converting enginelocation categorical to numerical using binary encoding\n",
    "cars_df['enginelocation']=cars_df['enginelocation'].map({'front':1,'rear':0})\n",
    "\n",
    "cars_df.head()\n",
    "\n",
    "cars_df['enginetype'].value_counts()\n",
    "\n",
    "#converting categotical enginetype to numerical using one hot encoding\n",
    "cars_df[['ohc','ohcf','ohcv','dohc','l','rotor']]=pd.get_dummies(cars_df['enginetype']).drop('dohcv',axis=1)\n",
    "\n",
    "cars_df.drop('enginetype',axis=1,inplace=True)\n",
    "\n",
    "cars_df.head()\n",
    "\n",
    "cars_df['cylindernumber'].value_counts()\n",
    "\n",
    "#converting cylindernumber using custom map as its value is of integer type\n",
    "cars_df['cylindernumber']=cars_df['cylindernumber'].map({'four':4,'six':6,'five':5,'eight':8,'two':2,'three':3,'twelve':12})\n",
    "\n",
    "cars_df['cylindernumber']=label.fit_transform(cars_df['cylindernumber'])\n",
    "\n",
    "cars_df.head()\n",
    "\n",
    "cars_df['fuelsystem'].value_counts()\n",
    "\n",
    "#converting categotical fuelsystem to numerical using one hot encoding\n",
    "cars_df[['1bbl', '2bbl', '4bbl', 'idi', 'mfi', 'mpfi', 'spdi']]=pd.get_dummies(cars_df['fuelsystem']).drop('spfi',axis=1)\n",
    "\n",
    "cars_df.drop('fuelsystem',axis=1,inplace=True)\n",
    "\n",
    "cars_df.head()\n",
    "\n",
    "cars_df['symboling'].value_counts()\n",
    "\n",
    "cars_df['symboling']=label.fit_transform(cars_df['symboling'])\n",
    "\n",
    "cars_df['carname'].value_counts()\n",
    "\n",
    "#coping data to a different dataframe without converting carname to numerical for farther analysis\n",
    "cars_df_withoutdummies_car=cars_df.copy()\n",
    "\n",
    "#removing the carname in copied dataframe\n",
    "cars_df_withoutdummies_car.drop('CarName',axis=1,inplace=True)\n",
    "\n",
    "cars_df['carname'].value_counts()\n",
    "\n",
    "# converting the categorical carname to numerical using one hot encoding\n",
    "cars_df[['alfa-romero', 'audi', 'bmw', 'buick', 'chevrolet', 'dodge', 'honda','isuzu', 'jaguar',\n",
    "         'mazda', 'mitsubishi', 'nissan','peugeot', 'plymouth', 'porsche',\n",
    "         'renault', 'saab', 'subaru', 'toyota','volkswagen', 'volvo']]=pd.get_dummies(cars_df['carname']).drop('mercury',axis=1)\n",
    "\n",
    "cars_df.drop('CarName',axis=1,inplace=True)\n",
    "\n",
    "cars_df.head()\n",
    "\n",
    "#number of columns in cars dataframe \n",
    "len(cars_df.columns)\n",
    "\n",
    "#number of columns in dataframe without carname categorical variable\n",
    "len(cars_df_withoutdummies_car.columns)"
   ]
  },
  {
   "cell_type": "markdown",
   "metadata": {},
   "source": [
    "## Data Preprocessing\n",
    "- Before feeding data to the model preprocessing data by scaling to reduce the iteration to converge"
   ]
  },
  {
   "cell_type": "code",
   "execution_count": 45,
   "metadata": {},
   "outputs": [],
   "source": [
    "#performing splitting before scaling \n",
    "from sklearn.model_selection import train_test_split\n",
    "\n",
    "#train and test data with carname added\n",
    "train_df,test_df=train_test_split(cars_df,test_size=0.3,random_state=1)\n",
    "\n",
    "#train and test data without carname\n",
    "train_withoutcar_df,test_withoutcar_df=train_test_split(cars_df_withoutdummies_car,test_size=0.3,random_state=1)\n",
    "\n",
    "#previewing the train data\n",
    "train_df.head()\n",
    "\n",
    "#previewing the train data without carname \n",
    "train_withoutcar_df.head()\n",
    "\n",
    "#importing the minmaxscaler to scale the data\n",
    "#as minmax scaler removes the outlier not need to treat them separately\n",
    "from sklearn.preprocessing import MinMaxScaler\n",
    "\n",
    "#creating a scaler obbject to scale the data\n",
    "scaler=MinMaxScaler()\n",
    "\n",
    "train_df.columns\n",
    "\n",
    "#removing car_ID,carname,price from predictor varaibles\n",
    "\n",
    "numvars=['symboling', 'fueltype', 'aspiration', 'doornumber',\n",
    "       'enginelocation', 'wheelbase', 'carlength', 'carwidth', 'carheight',\n",
    "       'curbweight', 'cylindernumber', 'enginesize', 'boreratio', 'stroke',\n",
    "       'compressionratio', 'horsepower', 'peakrpm', 'citympg', 'highwaympg',\n",
    "       'convertible', 'hatchback', 'sedan', 'wagon', 'fwd',\n",
    "       'rwd', 'ohc', 'ohcf', 'ohcv', 'dohc', 'l', 'rotor', '1bbl', '2bbl',\n",
    "       '4bbl', 'idi', 'mfi', 'mpfi', 'spdi', 'alfa-romero', 'audi', 'bmw',\n",
    "       'buick', 'chevrolet', 'dodge', 'honda', 'isuzu', 'jaguar',\n",
    "       'mazda', 'mitsubishi', 'nissan', 'peugeot', 'plymouth', 'porsche',\n",
    "       'renault', 'saab', 'subaru', 'toyota', 'volkswagen', 'volvo']\n",
    "\n",
    "train_withoutcar_df.columns\n",
    "\n",
    "#predictor variable of dataframe without carname encoded\n",
    "#car_ID,carname,price are not included\n",
    "\n",
    "numvar_withoutcar=[ 'symboling', 'fueltype', 'aspiration', 'doornumber',\n",
    "       'enginelocation', 'wheelbase', 'carlength', 'carwidth', 'carheight',\n",
    "       'curbweight', 'cylindernumber', 'enginesize', 'boreratio', 'stroke',\n",
    "       'compressionratio', 'horsepower', 'peakrpm', 'citympg', 'highwaympg',\n",
    "       'convertible', 'hatchback', 'sedan', 'wagon', 'fwd',\n",
    "       'rwd', 'ohc', 'ohcf', 'ohcv', 'dohc', 'l', 'rotor', '1bbl', '2bbl',\n",
    "       '4bbl', 'idi', 'mfi', 'mpfi', 'spdi']\n",
    "\n",
    "#fitting and tranforming the trained data using minmax scaler object\n",
    "train_df[numvars]=scaler.fit_transform(train_df[numvars])\n",
    "\n",
    "#test data should be fitted to scaler object so just transforming the test data using scaler object of trained data\n",
    "test_df[numvars]=scaler.transform(test_df[numvars])\n",
    "\n",
    "#same procedure is followed for train and test data without carname\n",
    "scaler_withoutcar=MinMaxScaler()\n",
    "\n",
    "train_withoutcar_df[numvar_withoutcar]=scaler_withoutcar.fit_transform(train_withoutcar_df[numvar_withoutcar])\n",
    "\n",
    "test_withoutcar_df[numvar_withoutcar]=scaler_withoutcar.transform(test_withoutcar_df[numvar_withoutcar])\n",
    "\n",
    "#previewing the training data after scaling\n",
    "train_df.head()\n",
    "\n",
    "#preview the training data without car name after scaling\n",
    "train_withoutcar_df.head()\n",
    "\n",
    "#segregating predictor and target variables of training data\n",
    "X_train_scaled=train_df[numvars]\n",
    "y_train=train_df['price']\n",
    "\n",
    "#predictor variables\n",
    "X_train_scaled.columns\n",
    "\n",
    "#segregating predictor and target variables of training data without carname\n",
    "X_train_withoutcar_scaled=train_withoutcar_df[numvar_withoutcar]\n",
    "y_train_withoutcar=train_withoutcar_df['price']\n",
    "\n",
    "#predictor variables\n",
    "X_train_withoutcar_scaled.columns\n",
    "\n",
    "#segregating predictor and target variables of test data\n",
    "X_test_scaled=test_df[numvars]\n",
    "y_test=test_df['price']\n",
    "\n",
    "#segregating predictor and target variables of test data without carname\n",
    "X_test_withoutcar_scaled=test_withoutcar_df[numvar_withoutcar]\n",
    "y_test_withoutcar=test_withoutcar_df['price']\n"
   ]
  },
  {
   "cell_type": "markdown",
   "metadata": {},
   "source": [
    "## Model building"
   ]
  },
  {
   "cell_type": "code",
   "execution_count": 61,
   "metadata": {},
   "outputs": [
    {
     "data": {
      "text/html": [
       "<div>\n",
       "<style scoped>\n",
       "    .dataframe tbody tr th:only-of-type {\n",
       "        vertical-align: middle;\n",
       "    }\n",
       "\n",
       "    .dataframe tbody tr th {\n",
       "        vertical-align: top;\n",
       "    }\n",
       "\n",
       "    .dataframe thead th {\n",
       "        text-align: right;\n",
       "    }\n",
       "</style>\n",
       "<table border=\"1\" class=\"dataframe\">\n",
       "  <thead>\n",
       "    <tr style=\"text-align: right;\">\n",
       "      <th></th>\n",
       "      <th>symboling</th>\n",
       "      <th>fueltype</th>\n",
       "      <th>aspiration</th>\n",
       "      <th>doornumber</th>\n",
       "      <th>enginelocation</th>\n",
       "      <th>wheelbase</th>\n",
       "      <th>carlength</th>\n",
       "      <th>carwidth</th>\n",
       "      <th>carheight</th>\n",
       "      <th>curbweight</th>\n",
       "      <th>...</th>\n",
       "      <th>nissan</th>\n",
       "      <th>peugeot</th>\n",
       "      <th>plymouth</th>\n",
       "      <th>porsche</th>\n",
       "      <th>renault</th>\n",
       "      <th>saab</th>\n",
       "      <th>subaru</th>\n",
       "      <th>toyota</th>\n",
       "      <th>volkswagen</th>\n",
       "      <th>volvo</th>\n",
       "    </tr>\n",
       "  </thead>\n",
       "  <tbody>\n",
       "    <tr>\n",
       "      <th>124</th>\n",
       "      <td>1.0</td>\n",
       "      <td>1.0</td>\n",
       "      <td>0.0</td>\n",
       "      <td>0.0</td>\n",
       "      <td>1.0</td>\n",
       "      <td>0.320690</td>\n",
       "      <td>0.493103</td>\n",
       "      <td>0.428571</td>\n",
       "      <td>0.200000</td>\n",
       "      <td>0.469613</td>\n",
       "      <td>...</td>\n",
       "      <td>0.0</td>\n",
       "      <td>0.0</td>\n",
       "      <td>1.0</td>\n",
       "      <td>0.0</td>\n",
       "      <td>0.0</td>\n",
       "      <td>0.0</td>\n",
       "      <td>0.0</td>\n",
       "      <td>0.0</td>\n",
       "      <td>0.0</td>\n",
       "      <td>0.0</td>\n",
       "    </tr>\n",
       "    <tr>\n",
       "      <th>181</th>\n",
       "      <td>0.2</td>\n",
       "      <td>1.0</td>\n",
       "      <td>1.0</td>\n",
       "      <td>1.0</td>\n",
       "      <td>1.0</td>\n",
       "      <td>0.617241</td>\n",
       "      <td>0.744828</td>\n",
       "      <td>0.447619</td>\n",
       "      <td>0.525000</td>\n",
       "      <td>0.611135</td>\n",
       "      <td>...</td>\n",
       "      <td>0.0</td>\n",
       "      <td>0.0</td>\n",
       "      <td>0.0</td>\n",
       "      <td>0.0</td>\n",
       "      <td>0.0</td>\n",
       "      <td>0.0</td>\n",
       "      <td>0.0</td>\n",
       "      <td>1.0</td>\n",
       "      <td>0.0</td>\n",
       "      <td>0.0</td>\n",
       "    </tr>\n",
       "    <tr>\n",
       "      <th>154</th>\n",
       "      <td>0.4</td>\n",
       "      <td>1.0</td>\n",
       "      <td>1.0</td>\n",
       "      <td>1.0</td>\n",
       "      <td>1.0</td>\n",
       "      <td>0.313793</td>\n",
       "      <td>0.432759</td>\n",
       "      <td>0.171429</td>\n",
       "      <td>0.941667</td>\n",
       "      <td>0.245219</td>\n",
       "      <td>...</td>\n",
       "      <td>0.0</td>\n",
       "      <td>0.0</td>\n",
       "      <td>0.0</td>\n",
       "      <td>0.0</td>\n",
       "      <td>0.0</td>\n",
       "      <td>0.0</td>\n",
       "      <td>0.0</td>\n",
       "      <td>1.0</td>\n",
       "      <td>0.0</td>\n",
       "      <td>0.0</td>\n",
       "    </tr>\n",
       "    <tr>\n",
       "      <th>53</th>\n",
       "      <td>0.6</td>\n",
       "      <td>1.0</td>\n",
       "      <td>1.0</td>\n",
       "      <td>1.0</td>\n",
       "      <td>1.0</td>\n",
       "      <td>0.224138</td>\n",
       "      <td>0.382759</td>\n",
       "      <td>0.228571</td>\n",
       "      <td>0.525000</td>\n",
       "      <td>0.098598</td>\n",
       "      <td>...</td>\n",
       "      <td>0.0</td>\n",
       "      <td>0.0</td>\n",
       "      <td>0.0</td>\n",
       "      <td>0.0</td>\n",
       "      <td>0.0</td>\n",
       "      <td>0.0</td>\n",
       "      <td>0.0</td>\n",
       "      <td>0.0</td>\n",
       "      <td>0.0</td>\n",
       "      <td>0.0</td>\n",
       "    </tr>\n",
       "    <tr>\n",
       "      <th>94</th>\n",
       "      <td>0.6</td>\n",
       "      <td>1.0</td>\n",
       "      <td>1.0</td>\n",
       "      <td>0.0</td>\n",
       "      <td>1.0</td>\n",
       "      <td>0.272414</td>\n",
       "      <td>0.356897</td>\n",
       "      <td>0.190476</td>\n",
       "      <td>0.558333</td>\n",
       "      <td>0.101147</td>\n",
       "      <td>...</td>\n",
       "      <td>1.0</td>\n",
       "      <td>0.0</td>\n",
       "      <td>0.0</td>\n",
       "      <td>0.0</td>\n",
       "      <td>0.0</td>\n",
       "      <td>0.0</td>\n",
       "      <td>0.0</td>\n",
       "      <td>0.0</td>\n",
       "      <td>0.0</td>\n",
       "      <td>0.0</td>\n",
       "    </tr>\n",
       "  </tbody>\n",
       "</table>\n",
       "<p>5 rows × 59 columns</p>\n",
       "</div>"
      ],
      "text/plain": [
       "     symboling  fueltype  aspiration  doornumber  enginelocation  wheelbase  \\\n",
       "124        1.0       1.0         0.0         0.0             1.0   0.320690   \n",
       "181        0.2       1.0         1.0         1.0             1.0   0.617241   \n",
       "154        0.4       1.0         1.0         1.0             1.0   0.313793   \n",
       "53         0.6       1.0         1.0         1.0             1.0   0.224138   \n",
       "94         0.6       1.0         1.0         0.0             1.0   0.272414   \n",
       "\n",
       "     carlength  carwidth  carheight  curbweight  ...  nissan  peugeot  \\\n",
       "124   0.493103  0.428571   0.200000    0.469613  ...     0.0      0.0   \n",
       "181   0.744828  0.447619   0.525000    0.611135  ...     0.0      0.0   \n",
       "154   0.432759  0.171429   0.941667    0.245219  ...     0.0      0.0   \n",
       "53    0.382759  0.228571   0.525000    0.098598  ...     0.0      0.0   \n",
       "94    0.356897  0.190476   0.558333    0.101147  ...     1.0      0.0   \n",
       "\n",
       "     plymouth  porsche  renault  saab  subaru  toyota  volkswagen  volvo  \n",
       "124       1.0      0.0      0.0   0.0     0.0     0.0         0.0    0.0  \n",
       "181       0.0      0.0      0.0   0.0     0.0     1.0         0.0    0.0  \n",
       "154       0.0      0.0      0.0   0.0     0.0     1.0         0.0    0.0  \n",
       "53        0.0      0.0      0.0   0.0     0.0     0.0         0.0    0.0  \n",
       "94        0.0      0.0      0.0   0.0     0.0     0.0         0.0    0.0  \n",
       "\n",
       "[5 rows x 59 columns]"
      ]
     },
     "execution_count": 61,
     "metadata": {},
     "output_type": "execute_result"
    }
   ],
   "source": [
    "X_train_scaled.head()"
   ]
  },
  {
   "cell_type": "code",
   "execution_count": 63,
   "metadata": {},
   "outputs": [
    {
     "data": {
      "text/plain": [
       "124    12764.0\n",
       "181    15750.0\n",
       "154     7898.0\n",
       "53      6695.0\n",
       "94      7299.0\n",
       "Name: price, dtype: float64"
      ]
     },
     "execution_count": 63,
     "metadata": {},
     "output_type": "execute_result"
    }
   ],
   "source": [
    "y_train.head()"
   ]
  },
  {
   "cell_type": "code",
   "execution_count": 49,
   "metadata": {},
   "outputs": [
    {
     "data": {
      "text/html": [
       "<div>\n",
       "<style scoped>\n",
       "    .dataframe tbody tr th:only-of-type {\n",
       "        vertical-align: middle;\n",
       "    }\n",
       "\n",
       "    .dataframe tbody tr th {\n",
       "        vertical-align: top;\n",
       "    }\n",
       "\n",
       "    .dataframe thead th {\n",
       "        text-align: right;\n",
       "    }\n",
       "</style>\n",
       "<table border=\"1\" class=\"dataframe\">\n",
       "  <thead>\n",
       "    <tr style=\"text-align: right;\">\n",
       "      <th></th>\n",
       "      <th>symboling</th>\n",
       "      <th>fueltype</th>\n",
       "      <th>aspiration</th>\n",
       "      <th>doornumber</th>\n",
       "      <th>enginelocation</th>\n",
       "      <th>wheelbase</th>\n",
       "      <th>carlength</th>\n",
       "      <th>carwidth</th>\n",
       "      <th>carheight</th>\n",
       "      <th>curbweight</th>\n",
       "      <th>...</th>\n",
       "      <th>nissan</th>\n",
       "      <th>peugeot</th>\n",
       "      <th>plymouth</th>\n",
       "      <th>porsche</th>\n",
       "      <th>renault</th>\n",
       "      <th>saab</th>\n",
       "      <th>subaru</th>\n",
       "      <th>toyota</th>\n",
       "      <th>volkswagen</th>\n",
       "      <th>volvo</th>\n",
       "    </tr>\n",
       "  </thead>\n",
       "  <tbody>\n",
       "    <tr>\n",
       "      <th>78</th>\n",
       "      <td>0.8</td>\n",
       "      <td>1.0</td>\n",
       "      <td>1.0</td>\n",
       "      <td>0.0</td>\n",
       "      <td>1.0</td>\n",
       "      <td>0.244828</td>\n",
       "      <td>0.218966</td>\n",
       "      <td>0.247619</td>\n",
       "      <td>0.250000</td>\n",
       "      <td>0.123672</td>\n",
       "      <td>...</td>\n",
       "      <td>0.0</td>\n",
       "      <td>0.0</td>\n",
       "      <td>0.0</td>\n",
       "      <td>0.0</td>\n",
       "      <td>0.0</td>\n",
       "      <td>0.0</td>\n",
       "      <td>0.0</td>\n",
       "      <td>0.0</td>\n",
       "      <td>0.0</td>\n",
       "      <td>0.0</td>\n",
       "    </tr>\n",
       "    <tr>\n",
       "      <th>97</th>\n",
       "      <td>0.6</td>\n",
       "      <td>1.0</td>\n",
       "      <td>1.0</td>\n",
       "      <td>1.0</td>\n",
       "      <td>1.0</td>\n",
       "      <td>0.272414</td>\n",
       "      <td>0.441379</td>\n",
       "      <td>0.190476</td>\n",
       "      <td>0.475000</td>\n",
       "      <td>0.137697</td>\n",
       "      <td>...</td>\n",
       "      <td>1.0</td>\n",
       "      <td>0.0</td>\n",
       "      <td>0.0</td>\n",
       "      <td>0.0</td>\n",
       "      <td>0.0</td>\n",
       "      <td>0.0</td>\n",
       "      <td>0.0</td>\n",
       "      <td>0.0</td>\n",
       "      <td>0.0</td>\n",
       "      <td>0.0</td>\n",
       "    </tr>\n",
       "    <tr>\n",
       "      <th>151</th>\n",
       "      <td>0.6</td>\n",
       "      <td>1.0</td>\n",
       "      <td>1.0</td>\n",
       "      <td>0.0</td>\n",
       "      <td>1.0</td>\n",
       "      <td>0.313793</td>\n",
       "      <td>0.243103</td>\n",
       "      <td>0.171429</td>\n",
       "      <td>0.558333</td>\n",
       "      <td>0.138972</td>\n",
       "      <td>...</td>\n",
       "      <td>0.0</td>\n",
       "      <td>0.0</td>\n",
       "      <td>0.0</td>\n",
       "      <td>0.0</td>\n",
       "      <td>0.0</td>\n",
       "      <td>0.0</td>\n",
       "      <td>0.0</td>\n",
       "      <td>1.0</td>\n",
       "      <td>0.0</td>\n",
       "      <td>0.0</td>\n",
       "    </tr>\n",
       "    <tr>\n",
       "      <th>44</th>\n",
       "      <td>0.6</td>\n",
       "      <td>1.0</td>\n",
       "      <td>1.0</td>\n",
       "      <td>0.0</td>\n",
       "      <td>1.0</td>\n",
       "      <td>0.272414</td>\n",
       "      <td>0.194828</td>\n",
       "      <td>0.171429</td>\n",
       "      <td>0.350000</td>\n",
       "      <td>0.068423</td>\n",
       "      <td>...</td>\n",
       "      <td>0.0</td>\n",
       "      <td>0.0</td>\n",
       "      <td>0.0</td>\n",
       "      <td>0.0</td>\n",
       "      <td>0.0</td>\n",
       "      <td>0.0</td>\n",
       "      <td>0.0</td>\n",
       "      <td>0.0</td>\n",
       "      <td>0.0</td>\n",
       "      <td>0.0</td>\n",
       "    </tr>\n",
       "    <tr>\n",
       "      <th>40</th>\n",
       "      <td>0.4</td>\n",
       "      <td>1.0</td>\n",
       "      <td>1.0</td>\n",
       "      <td>1.0</td>\n",
       "      <td>1.0</td>\n",
       "      <td>0.341379</td>\n",
       "      <td>0.531034</td>\n",
       "      <td>0.066667</td>\n",
       "      <td>0.525000</td>\n",
       "      <td>0.280068</td>\n",
       "      <td>...</td>\n",
       "      <td>0.0</td>\n",
       "      <td>0.0</td>\n",
       "      <td>0.0</td>\n",
       "      <td>0.0</td>\n",
       "      <td>0.0</td>\n",
       "      <td>0.0</td>\n",
       "      <td>0.0</td>\n",
       "      <td>0.0</td>\n",
       "      <td>0.0</td>\n",
       "      <td>0.0</td>\n",
       "    </tr>\n",
       "  </tbody>\n",
       "</table>\n",
       "<p>5 rows × 59 columns</p>\n",
       "</div>"
      ],
      "text/plain": [
       "     symboling  fueltype  aspiration  doornumber  enginelocation  wheelbase  \\\n",
       "78         0.8       1.0         1.0         0.0             1.0   0.244828   \n",
       "97         0.6       1.0         1.0         1.0             1.0   0.272414   \n",
       "151        0.6       1.0         1.0         0.0             1.0   0.313793   \n",
       "44         0.6       1.0         1.0         0.0             1.0   0.272414   \n",
       "40         0.4       1.0         1.0         1.0             1.0   0.341379   \n",
       "\n",
       "     carlength  carwidth  carheight  curbweight  ...  nissan  peugeot  \\\n",
       "78    0.218966  0.247619   0.250000    0.123672  ...     0.0      0.0   \n",
       "97    0.441379  0.190476   0.475000    0.137697  ...     1.0      0.0   \n",
       "151   0.243103  0.171429   0.558333    0.138972  ...     0.0      0.0   \n",
       "44    0.194828  0.171429   0.350000    0.068423  ...     0.0      0.0   \n",
       "40    0.531034  0.066667   0.525000    0.280068  ...     0.0      0.0   \n",
       "\n",
       "     plymouth  porsche  renault  saab  subaru  toyota  volkswagen  volvo  \n",
       "78        0.0      0.0      0.0   0.0     0.0     0.0         0.0    0.0  \n",
       "97        0.0      0.0      0.0   0.0     0.0     0.0         0.0    0.0  \n",
       "151       0.0      0.0      0.0   0.0     0.0     1.0         0.0    0.0  \n",
       "44        0.0      0.0      0.0   0.0     0.0     0.0         0.0    0.0  \n",
       "40        0.0      0.0      0.0   0.0     0.0     0.0         0.0    0.0  \n",
       "\n",
       "[5 rows x 59 columns]"
      ]
     },
     "execution_count": 49,
     "metadata": {},
     "output_type": "execute_result"
    }
   ],
   "source": [
    "X_test_scaled.head()"
   ]
  },
  {
   "cell_type": "code",
   "execution_count": 50,
   "metadata": {},
   "outputs": [
    {
     "data": {
      "text/plain": [
       "78      6669.0\n",
       "97      7999.0\n",
       "151     6338.0\n",
       "44      8916.5\n",
       "40     10295.0\n",
       "Name: price, dtype: float64"
      ]
     },
     "execution_count": 50,
     "metadata": {},
     "output_type": "execute_result"
    }
   ],
   "source": [
    "y_test.head()"
   ]
  },
  {
   "cell_type": "markdown",
   "metadata": {},
   "source": [
    "## Ridge and Lasso Regression\n",
    "\n",
    "Let's now try predicting car prices, a dataset used in simple linear regression, to perform ridge and lasso regression."
   ]
  },
  {
   "cell_type": "code",
   "execution_count": 51,
   "metadata": {},
   "outputs": [],
   "source": [
    "from sklearn.linear_model import Lasso\n",
    "from sklearn.linear_model import Ridge\n",
    "from sklearn.model_selection import GridSearchCV\n",
    "from sklearn.linear_model import LinearRegression"
   ]
  },
  {
   "cell_type": "code",
   "execution_count": 57,
   "metadata": {},
   "outputs": [],
   "source": [
    "from sklearn.model_selection import cross_val_score,KFold\n",
    "from sklearn import metrics "
   ]
  },
  {
   "cell_type": "markdown",
   "metadata": {},
   "source": [
    "## Ridge Regression"
   ]
  },
  {
   "cell_type": "code",
   "execution_count": 54,
   "metadata": {},
   "outputs": [],
   "source": [
    "ridge_model=Ridge()\n",
    "folds=KFold(n_splits=5,shuffle=True,random_state=100)"
   ]
  },
  {
   "cell_type": "code",
   "execution_count": 55,
   "metadata": {},
   "outputs": [],
   "source": [
    "params = {'alpha': [0.0001, 0.001, 0.01, 0.05, 0.1, \n",
    " 0.2, 0.3, 0.4, 0.5, 0.6, 0.7, 0.8, 0.9, 1.0, 2.0, 3.0, \n",
    " 4.0, 5.0, 6.0, 7.0, 8.0, 9.0, 10.0, 20, 50, 100, 500, 1000 ]}"
   ]
  },
  {
   "cell_type": "code",
   "execution_count": 58,
   "metadata": {},
   "outputs": [
    {
     "data": {
      "text/plain": [
       "dict_keys(['explained_variance', 'r2', 'max_error', 'neg_median_absolute_error', 'neg_mean_absolute_error', 'neg_mean_squared_error', 'neg_mean_squared_log_error', 'accuracy', 'roc_auc', 'balanced_accuracy', 'average_precision', 'neg_log_loss', 'brier_score_loss', 'adjusted_rand_score', 'homogeneity_score', 'completeness_score', 'v_measure_score', 'mutual_info_score', 'adjusted_mutual_info_score', 'normalized_mutual_info_score', 'fowlkes_mallows_score', 'precision', 'precision_macro', 'precision_micro', 'precision_samples', 'precision_weighted', 'recall', 'recall_macro', 'recall_micro', 'recall_samples', 'recall_weighted', 'f1', 'f1_macro', 'f1_micro', 'f1_samples', 'f1_weighted', 'jaccard', 'jaccard_macro', 'jaccard_micro', 'jaccard_samples', 'jaccard_weighted'])"
      ]
     },
     "execution_count": 58,
     "metadata": {},
     "output_type": "execute_result"
    }
   ],
   "source": [
    "metrics.SCORERS.keys()"
   ]
  },
  {
   "cell_type": "code",
   "execution_count": 59,
   "metadata": {},
   "outputs": [],
   "source": [
    "model_cv=GridSearchCV(estimator=ridge_model,\n",
    "             param_grid=params,\n",
    "             verbose=1,\n",
    "             cv=folds,\n",
    "             scoring='neg_mean_absolute_error',\n",
    "             return_train_score=True)"
   ]
  },
  {
   "cell_type": "code",
   "execution_count": 64,
   "metadata": {},
   "outputs": [
    {
     "name": "stdout",
     "output_type": "stream",
     "text": [
      "Fitting 5 folds for each of 28 candidates, totalling 140 fits\n"
     ]
    },
    {
     "name": "stderr",
     "output_type": "stream",
     "text": [
      "[Parallel(n_jobs=1)]: Using backend SequentialBackend with 1 concurrent workers.\n",
      "[Parallel(n_jobs=1)]: Done 140 out of 140 | elapsed:    0.5s finished\n"
     ]
    },
    {
     "data": {
      "text/plain": [
       "GridSearchCV(cv=KFold(n_splits=5, random_state=100, shuffle=True),\n",
       "             error_score='raise-deprecating',\n",
       "             estimator=Ridge(alpha=1.0, copy_X=True, fit_intercept=True,\n",
       "                             max_iter=None, normalize=False, random_state=None,\n",
       "                             solver='auto', tol=0.001),\n",
       "             iid='warn', n_jobs=None,\n",
       "             param_grid={'alpha': [0.0001, 0.001, 0.01, 0.05, 0.1, 0.2, 0.3,\n",
       "                                   0.4, 0.5, 0.6, 0.7, 0.8, 0.9, 1.0, 2.0, 3.0,\n",
       "                                   4.0, 5.0, 6.0, 7.0, 8.0, 9.0, 10.0, 20, 50,\n",
       "                                   100, 500, 1000]},\n",
       "             pre_dispatch='2*n_jobs', refit=True, return_train_score=True,\n",
       "             scoring='neg_mean_absolute_error', verbose=1)"
      ]
     },
     "execution_count": 64,
     "metadata": {},
     "output_type": "execute_result"
    }
   ],
   "source": [
    "model_cv.fit(X_train_scaled,y_train)"
   ]
  },
  {
   "cell_type": "code",
   "execution_count": 67,
   "metadata": {},
   "outputs": [],
   "source": [
    "cv_results=pd.DataFrame(model_cv.cv_results_)"
   ]
  },
  {
   "cell_type": "code",
   "execution_count": 68,
   "metadata": {},
   "outputs": [
    {
     "data": {
      "text/html": [
       "<div>\n",
       "<style scoped>\n",
       "    .dataframe tbody tr th:only-of-type {\n",
       "        vertical-align: middle;\n",
       "    }\n",
       "\n",
       "    .dataframe tbody tr th {\n",
       "        vertical-align: top;\n",
       "    }\n",
       "\n",
       "    .dataframe thead th {\n",
       "        text-align: right;\n",
       "    }\n",
       "</style>\n",
       "<table border=\"1\" class=\"dataframe\">\n",
       "  <thead>\n",
       "    <tr style=\"text-align: right;\">\n",
       "      <th></th>\n",
       "      <th>mean_fit_time</th>\n",
       "      <th>std_fit_time</th>\n",
       "      <th>mean_score_time</th>\n",
       "      <th>std_score_time</th>\n",
       "      <th>param_alpha</th>\n",
       "      <th>params</th>\n",
       "      <th>split0_test_score</th>\n",
       "      <th>split1_test_score</th>\n",
       "      <th>split2_test_score</th>\n",
       "      <th>split3_test_score</th>\n",
       "      <th>...</th>\n",
       "      <th>mean_test_score</th>\n",
       "      <th>std_test_score</th>\n",
       "      <th>rank_test_score</th>\n",
       "      <th>split0_train_score</th>\n",
       "      <th>split1_train_score</th>\n",
       "      <th>split2_train_score</th>\n",
       "      <th>split3_train_score</th>\n",
       "      <th>split4_train_score</th>\n",
       "      <th>mean_train_score</th>\n",
       "      <th>std_train_score</th>\n",
       "    </tr>\n",
       "  </thead>\n",
       "  <tbody>\n",
       "    <tr>\n",
       "      <th>0</th>\n",
       "      <td>0.004794</td>\n",
       "      <td>0.007746</td>\n",
       "      <td>0.000799</td>\n",
       "      <td>0.001598</td>\n",
       "      <td>0.0001</td>\n",
       "      <td>{'alpha': 0.0001}</td>\n",
       "      <td>-1716.324926</td>\n",
       "      <td>-1309.278193</td>\n",
       "      <td>-1513.084808</td>\n",
       "      <td>-3283.344260</td>\n",
       "      <td>...</td>\n",
       "      <td>-1971.752135</td>\n",
       "      <td>695.905472</td>\n",
       "      <td>16</td>\n",
       "      <td>-933.700234</td>\n",
       "      <td>-1070.537107</td>\n",
       "      <td>-947.775622</td>\n",
       "      <td>-795.322903</td>\n",
       "      <td>-793.775934</td>\n",
       "      <td>-908.222360</td>\n",
       "      <td>104.311008</td>\n",
       "    </tr>\n",
       "    <tr>\n",
       "      <th>1</th>\n",
       "      <td>0.001599</td>\n",
       "      <td>0.001959</td>\n",
       "      <td>0.001598</td>\n",
       "      <td>0.001957</td>\n",
       "      <td>0.001</td>\n",
       "      <td>{'alpha': 0.001}</td>\n",
       "      <td>-1712.462510</td>\n",
       "      <td>-1294.778312</td>\n",
       "      <td>-1509.198067</td>\n",
       "      <td>-3086.577179</td>\n",
       "      <td>...</td>\n",
       "      <td>-1928.075463</td>\n",
       "      <td>627.548326</td>\n",
       "      <td>15</td>\n",
       "      <td>-931.953135</td>\n",
       "      <td>-1069.728715</td>\n",
       "      <td>-947.167421</td>\n",
       "      <td>-794.989485</td>\n",
       "      <td>-793.629373</td>\n",
       "      <td>-907.493626</td>\n",
       "      <td>104.033410</td>\n",
       "    </tr>\n",
       "    <tr>\n",
       "      <th>2</th>\n",
       "      <td>0.001598</td>\n",
       "      <td>0.001957</td>\n",
       "      <td>0.002397</td>\n",
       "      <td>0.001957</td>\n",
       "      <td>0.01</td>\n",
       "      <td>{'alpha': 0.01}</td>\n",
       "      <td>-1675.215703</td>\n",
       "      <td>-1219.809146</td>\n",
       "      <td>-1502.705819</td>\n",
       "      <td>-2498.799322</td>\n",
       "      <td>...</td>\n",
       "      <td>-1801.770695</td>\n",
       "      <td>456.852777</td>\n",
       "      <td>13</td>\n",
       "      <td>-927.475667</td>\n",
       "      <td>-1063.725574</td>\n",
       "      <td>-951.752836</td>\n",
       "      <td>-838.108558</td>\n",
       "      <td>-797.161219</td>\n",
       "      <td>-915.644771</td>\n",
       "      <td>93.190024</td>\n",
       "    </tr>\n",
       "    <tr>\n",
       "      <th>3</th>\n",
       "      <td>0.001598</td>\n",
       "      <td>0.001957</td>\n",
       "      <td>0.000799</td>\n",
       "      <td>0.001598</td>\n",
       "      <td>0.05</td>\n",
       "      <td>{'alpha': 0.05}</td>\n",
       "      <td>-1598.287685</td>\n",
       "      <td>-1262.308253</td>\n",
       "      <td>-1555.971337</td>\n",
       "      <td>-2389.016604</td>\n",
       "      <td>...</td>\n",
       "      <td>-1795.453402</td>\n",
       "      <td>423.316836</td>\n",
       "      <td>12</td>\n",
       "      <td>-947.810673</td>\n",
       "      <td>-1072.122649</td>\n",
       "      <td>-1003.127228</td>\n",
       "      <td>-907.697897</td>\n",
       "      <td>-819.887049</td>\n",
       "      <td>-950.129099</td>\n",
       "      <td>85.393210</td>\n",
       "    </tr>\n",
       "    <tr>\n",
       "      <th>4</th>\n",
       "      <td>0.001598</td>\n",
       "      <td>0.001957</td>\n",
       "      <td>0.000000</td>\n",
       "      <td>0.000000</td>\n",
       "      <td>0.1</td>\n",
       "      <td>{'alpha': 0.1}</td>\n",
       "      <td>-1563.387199</td>\n",
       "      <td>-1319.488208</td>\n",
       "      <td>-1575.828963</td>\n",
       "      <td>-2227.535700</td>\n",
       "      <td>...</td>\n",
       "      <td>-1777.775523</td>\n",
       "      <td>374.866609</td>\n",
       "      <td>11</td>\n",
       "      <td>-984.055564</td>\n",
       "      <td>-1090.998351</td>\n",
       "      <td>-1041.309897</td>\n",
       "      <td>-945.224541</td>\n",
       "      <td>-846.880581</td>\n",
       "      <td>-981.693787</td>\n",
       "      <td>83.680048</td>\n",
       "    </tr>\n",
       "  </tbody>\n",
       "</table>\n",
       "<p>5 rows × 21 columns</p>\n",
       "</div>"
      ],
      "text/plain": [
       "   mean_fit_time  std_fit_time  mean_score_time  std_score_time param_alpha  \\\n",
       "0       0.004794      0.007746         0.000799        0.001598      0.0001   \n",
       "1       0.001599      0.001959         0.001598        0.001957       0.001   \n",
       "2       0.001598      0.001957         0.002397        0.001957        0.01   \n",
       "3       0.001598      0.001957         0.000799        0.001598        0.05   \n",
       "4       0.001598      0.001957         0.000000        0.000000         0.1   \n",
       "\n",
       "              params  split0_test_score  split1_test_score  split2_test_score  \\\n",
       "0  {'alpha': 0.0001}       -1716.324926       -1309.278193       -1513.084808   \n",
       "1   {'alpha': 0.001}       -1712.462510       -1294.778312       -1509.198067   \n",
       "2    {'alpha': 0.01}       -1675.215703       -1219.809146       -1502.705819   \n",
       "3    {'alpha': 0.05}       -1598.287685       -1262.308253       -1555.971337   \n",
       "4     {'alpha': 0.1}       -1563.387199       -1319.488208       -1575.828963   \n",
       "\n",
       "   split3_test_score  ...  mean_test_score  std_test_score  rank_test_score  \\\n",
       "0       -3283.344260  ...     -1971.752135      695.905472               16   \n",
       "1       -3086.577179  ...     -1928.075463      627.548326               15   \n",
       "2       -2498.799322  ...     -1801.770695      456.852777               13   \n",
       "3       -2389.016604  ...     -1795.453402      423.316836               12   \n",
       "4       -2227.535700  ...     -1777.775523      374.866609               11   \n",
       "\n",
       "   split0_train_score  split1_train_score  split2_train_score  \\\n",
       "0         -933.700234        -1070.537107         -947.775622   \n",
       "1         -931.953135        -1069.728715         -947.167421   \n",
       "2         -927.475667        -1063.725574         -951.752836   \n",
       "3         -947.810673        -1072.122649        -1003.127228   \n",
       "4         -984.055564        -1090.998351        -1041.309897   \n",
       "\n",
       "   split3_train_score  split4_train_score  mean_train_score  std_train_score  \n",
       "0         -795.322903         -793.775934       -908.222360       104.311008  \n",
       "1         -794.989485         -793.629373       -907.493626       104.033410  \n",
       "2         -838.108558         -797.161219       -915.644771        93.190024  \n",
       "3         -907.697897         -819.887049       -950.129099        85.393210  \n",
       "4         -945.224541         -846.880581       -981.693787        83.680048  \n",
       "\n",
       "[5 rows x 21 columns]"
      ]
     },
     "execution_count": 68,
     "metadata": {},
     "output_type": "execute_result"
    }
   ],
   "source": [
    "cv_results.head()"
   ]
  },
  {
   "cell_type": "code",
   "execution_count": 86,
   "metadata": {},
   "outputs": [
    {
     "data": {
      "text/html": [
       "<div>\n",
       "<style scoped>\n",
       "    .dataframe tbody tr th:only-of-type {\n",
       "        vertical-align: middle;\n",
       "    }\n",
       "\n",
       "    .dataframe tbody tr th {\n",
       "        vertical-align: top;\n",
       "    }\n",
       "\n",
       "    .dataframe thead th {\n",
       "        text-align: right;\n",
       "    }\n",
       "</style>\n",
       "<table border=\"1\" class=\"dataframe\">\n",
       "  <thead>\n",
       "    <tr style=\"text-align: right;\">\n",
       "      <th></th>\n",
       "      <th>mean_fit_time</th>\n",
       "      <th>std_fit_time</th>\n",
       "      <th>mean_score_time</th>\n",
       "      <th>std_score_time</th>\n",
       "      <th>param_alpha</th>\n",
       "      <th>params</th>\n",
       "      <th>split0_test_score</th>\n",
       "      <th>split1_test_score</th>\n",
       "      <th>split2_test_score</th>\n",
       "      <th>split3_test_score</th>\n",
       "      <th>...</th>\n",
       "      <th>mean_test_score</th>\n",
       "      <th>std_test_score</th>\n",
       "      <th>rank_test_score</th>\n",
       "      <th>split0_train_score</th>\n",
       "      <th>split1_train_score</th>\n",
       "      <th>split2_train_score</th>\n",
       "      <th>split3_train_score</th>\n",
       "      <th>split4_train_score</th>\n",
       "      <th>mean_train_score</th>\n",
       "      <th>std_train_score</th>\n",
       "    </tr>\n",
       "  </thead>\n",
       "  <tbody>\n",
       "    <tr>\n",
       "      <th>0</th>\n",
       "      <td>0.004794</td>\n",
       "      <td>0.007746</td>\n",
       "      <td>0.000799</td>\n",
       "      <td>0.001598</td>\n",
       "      <td>0.0001</td>\n",
       "      <td>{'alpha': 0.0001}</td>\n",
       "      <td>-1716.324926</td>\n",
       "      <td>-1309.278193</td>\n",
       "      <td>-1513.084808</td>\n",
       "      <td>-3283.344260</td>\n",
       "      <td>...</td>\n",
       "      <td>-1971.752135</td>\n",
       "      <td>695.905472</td>\n",
       "      <td>16</td>\n",
       "      <td>-933.700234</td>\n",
       "      <td>-1070.537107</td>\n",
       "      <td>-947.775622</td>\n",
       "      <td>-795.322903</td>\n",
       "      <td>-793.775934</td>\n",
       "      <td>-908.222360</td>\n",
       "      <td>104.311008</td>\n",
       "    </tr>\n",
       "    <tr>\n",
       "      <th>1</th>\n",
       "      <td>0.001599</td>\n",
       "      <td>0.001959</td>\n",
       "      <td>0.001598</td>\n",
       "      <td>0.001957</td>\n",
       "      <td>0.0010</td>\n",
       "      <td>{'alpha': 0.001}</td>\n",
       "      <td>-1712.462510</td>\n",
       "      <td>-1294.778312</td>\n",
       "      <td>-1509.198067</td>\n",
       "      <td>-3086.577179</td>\n",
       "      <td>...</td>\n",
       "      <td>-1928.075463</td>\n",
       "      <td>627.548326</td>\n",
       "      <td>15</td>\n",
       "      <td>-931.953135</td>\n",
       "      <td>-1069.728715</td>\n",
       "      <td>-947.167421</td>\n",
       "      <td>-794.989485</td>\n",
       "      <td>-793.629373</td>\n",
       "      <td>-907.493626</td>\n",
       "      <td>104.033410</td>\n",
       "    </tr>\n",
       "    <tr>\n",
       "      <th>2</th>\n",
       "      <td>0.001598</td>\n",
       "      <td>0.001957</td>\n",
       "      <td>0.002397</td>\n",
       "      <td>0.001957</td>\n",
       "      <td>0.0100</td>\n",
       "      <td>{'alpha': 0.01}</td>\n",
       "      <td>-1675.215703</td>\n",
       "      <td>-1219.809146</td>\n",
       "      <td>-1502.705819</td>\n",
       "      <td>-2498.799322</td>\n",
       "      <td>...</td>\n",
       "      <td>-1801.770695</td>\n",
       "      <td>456.852777</td>\n",
       "      <td>13</td>\n",
       "      <td>-927.475667</td>\n",
       "      <td>-1063.725574</td>\n",
       "      <td>-951.752836</td>\n",
       "      <td>-838.108558</td>\n",
       "      <td>-797.161219</td>\n",
       "      <td>-915.644771</td>\n",
       "      <td>93.190024</td>\n",
       "    </tr>\n",
       "    <tr>\n",
       "      <th>3</th>\n",
       "      <td>0.001598</td>\n",
       "      <td>0.001957</td>\n",
       "      <td>0.000799</td>\n",
       "      <td>0.001598</td>\n",
       "      <td>0.0500</td>\n",
       "      <td>{'alpha': 0.05}</td>\n",
       "      <td>-1598.287685</td>\n",
       "      <td>-1262.308253</td>\n",
       "      <td>-1555.971337</td>\n",
       "      <td>-2389.016604</td>\n",
       "      <td>...</td>\n",
       "      <td>-1795.453402</td>\n",
       "      <td>423.316836</td>\n",
       "      <td>12</td>\n",
       "      <td>-947.810673</td>\n",
       "      <td>-1072.122649</td>\n",
       "      <td>-1003.127228</td>\n",
       "      <td>-907.697897</td>\n",
       "      <td>-819.887049</td>\n",
       "      <td>-950.129099</td>\n",
       "      <td>85.393210</td>\n",
       "    </tr>\n",
       "    <tr>\n",
       "      <th>4</th>\n",
       "      <td>0.001598</td>\n",
       "      <td>0.001957</td>\n",
       "      <td>0.000000</td>\n",
       "      <td>0.000000</td>\n",
       "      <td>0.1000</td>\n",
       "      <td>{'alpha': 0.1}</td>\n",
       "      <td>-1563.387199</td>\n",
       "      <td>-1319.488208</td>\n",
       "      <td>-1575.828963</td>\n",
       "      <td>-2227.535700</td>\n",
       "      <td>...</td>\n",
       "      <td>-1777.775523</td>\n",
       "      <td>374.866609</td>\n",
       "      <td>11</td>\n",
       "      <td>-984.055564</td>\n",
       "      <td>-1090.998351</td>\n",
       "      <td>-1041.309897</td>\n",
       "      <td>-945.224541</td>\n",
       "      <td>-846.880581</td>\n",
       "      <td>-981.693787</td>\n",
       "      <td>83.680048</td>\n",
       "    </tr>\n",
       "  </tbody>\n",
       "</table>\n",
       "<p>5 rows × 21 columns</p>\n",
       "</div>"
      ],
      "text/plain": [
       "   mean_fit_time  std_fit_time  mean_score_time  std_score_time  param_alpha  \\\n",
       "0       0.004794      0.007746         0.000799        0.001598       0.0001   \n",
       "1       0.001599      0.001959         0.001598        0.001957       0.0010   \n",
       "2       0.001598      0.001957         0.002397        0.001957       0.0100   \n",
       "3       0.001598      0.001957         0.000799        0.001598       0.0500   \n",
       "4       0.001598      0.001957         0.000000        0.000000       0.1000   \n",
       "\n",
       "              params  split0_test_score  split1_test_score  split2_test_score  \\\n",
       "0  {'alpha': 0.0001}       -1716.324926       -1309.278193       -1513.084808   \n",
       "1   {'alpha': 0.001}       -1712.462510       -1294.778312       -1509.198067   \n",
       "2    {'alpha': 0.01}       -1675.215703       -1219.809146       -1502.705819   \n",
       "3    {'alpha': 0.05}       -1598.287685       -1262.308253       -1555.971337   \n",
       "4     {'alpha': 0.1}       -1563.387199       -1319.488208       -1575.828963   \n",
       "\n",
       "   split3_test_score  ...  mean_test_score  std_test_score  rank_test_score  \\\n",
       "0       -3283.344260  ...     -1971.752135      695.905472               16   \n",
       "1       -3086.577179  ...     -1928.075463      627.548326               15   \n",
       "2       -2498.799322  ...     -1801.770695      456.852777               13   \n",
       "3       -2389.016604  ...     -1795.453402      423.316836               12   \n",
       "4       -2227.535700  ...     -1777.775523      374.866609               11   \n",
       "\n",
       "   split0_train_score  split1_train_score  split2_train_score  \\\n",
       "0         -933.700234        -1070.537107         -947.775622   \n",
       "1         -931.953135        -1069.728715         -947.167421   \n",
       "2         -927.475667        -1063.725574         -951.752836   \n",
       "3         -947.810673        -1072.122649        -1003.127228   \n",
       "4         -984.055564        -1090.998351        -1041.309897   \n",
       "\n",
       "   split3_train_score  split4_train_score  mean_train_score  std_train_score  \n",
       "0         -795.322903         -793.775934       -908.222360       104.311008  \n",
       "1         -794.989485         -793.629373       -907.493626       104.033410  \n",
       "2         -838.108558         -797.161219       -915.644771        93.190024  \n",
       "3         -907.697897         -819.887049       -950.129099        85.393210  \n",
       "4         -945.224541         -846.880581       -981.693787        83.680048  \n",
       "\n",
       "[5 rows x 21 columns]"
      ]
     },
     "execution_count": 86,
     "metadata": {},
     "output_type": "execute_result"
    }
   ],
   "source": [
    "cv_results = cv_results[cv_results['param_alpha']<=200]\n",
    "cv_results.head()"
   ]
  },
  {
   "cell_type": "code",
   "execution_count": 90,
   "metadata": {},
   "outputs": [
    {
     "data": {
      "text/html": [
       "<div>\n",
       "<style scoped>\n",
       "    .dataframe tbody tr th:only-of-type {\n",
       "        vertical-align: middle;\n",
       "    }\n",
       "\n",
       "    .dataframe tbody tr th {\n",
       "        vertical-align: top;\n",
       "    }\n",
       "\n",
       "    .dataframe thead th {\n",
       "        text-align: right;\n",
       "    }\n",
       "</style>\n",
       "<table border=\"1\" class=\"dataframe\">\n",
       "  <thead>\n",
       "    <tr style=\"text-align: right;\">\n",
       "      <th></th>\n",
       "      <th>param_alpha</th>\n",
       "      <th>mean_train_score</th>\n",
       "      <th>mean_test_score</th>\n",
       "      <th>rank_test_score</th>\n",
       "    </tr>\n",
       "  </thead>\n",
       "  <tbody>\n",
       "    <tr>\n",
       "      <th>0</th>\n",
       "      <td>0.0001</td>\n",
       "      <td>-908.222360</td>\n",
       "      <td>-1971.752135</td>\n",
       "      <td>16</td>\n",
       "    </tr>\n",
       "    <tr>\n",
       "      <th>1</th>\n",
       "      <td>0.0010</td>\n",
       "      <td>-907.493626</td>\n",
       "      <td>-1928.075463</td>\n",
       "      <td>15</td>\n",
       "    </tr>\n",
       "    <tr>\n",
       "      <th>2</th>\n",
       "      <td>0.0100</td>\n",
       "      <td>-915.644771</td>\n",
       "      <td>-1801.770695</td>\n",
       "      <td>13</td>\n",
       "    </tr>\n",
       "    <tr>\n",
       "      <th>3</th>\n",
       "      <td>0.0500</td>\n",
       "      <td>-950.129099</td>\n",
       "      <td>-1795.453402</td>\n",
       "      <td>12</td>\n",
       "    </tr>\n",
       "    <tr>\n",
       "      <th>4</th>\n",
       "      <td>0.1000</td>\n",
       "      <td>-981.693787</td>\n",
       "      <td>-1777.775523</td>\n",
       "      <td>11</td>\n",
       "    </tr>\n",
       "    <tr>\n",
       "      <th>5</th>\n",
       "      <td>0.2000</td>\n",
       "      <td>-1023.950814</td>\n",
       "      <td>-1743.009626</td>\n",
       "      <td>9</td>\n",
       "    </tr>\n",
       "    <tr>\n",
       "      <th>6</th>\n",
       "      <td>0.3000</td>\n",
       "      <td>-1056.952632</td>\n",
       "      <td>-1721.460881</td>\n",
       "      <td>8</td>\n",
       "    </tr>\n",
       "    <tr>\n",
       "      <th>7</th>\n",
       "      <td>0.4000</td>\n",
       "      <td>-1084.419464</td>\n",
       "      <td>-1706.305568</td>\n",
       "      <td>7</td>\n",
       "    </tr>\n",
       "    <tr>\n",
       "      <th>8</th>\n",
       "      <td>0.5000</td>\n",
       "      <td>-1107.476244</td>\n",
       "      <td>-1694.008609</td>\n",
       "      <td>6</td>\n",
       "    </tr>\n",
       "    <tr>\n",
       "      <th>9</th>\n",
       "      <td>0.6000</td>\n",
       "      <td>-1127.561665</td>\n",
       "      <td>-1687.782543</td>\n",
       "      <td>5</td>\n",
       "    </tr>\n",
       "    <tr>\n",
       "      <th>10</th>\n",
       "      <td>0.7000</td>\n",
       "      <td>-1145.884889</td>\n",
       "      <td>-1683.129558</td>\n",
       "      <td>3</td>\n",
       "    </tr>\n",
       "    <tr>\n",
       "      <th>11</th>\n",
       "      <td>0.8000</td>\n",
       "      <td>-1163.773844</td>\n",
       "      <td>-1682.239994</td>\n",
       "      <td>1</td>\n",
       "    </tr>\n",
       "    <tr>\n",
       "      <th>12</th>\n",
       "      <td>0.9000</td>\n",
       "      <td>-1180.762279</td>\n",
       "      <td>-1682.857570</td>\n",
       "      <td>2</td>\n",
       "    </tr>\n",
       "    <tr>\n",
       "      <th>13</th>\n",
       "      <td>1.0000</td>\n",
       "      <td>-1197.338033</td>\n",
       "      <td>-1683.179549</td>\n",
       "      <td>4</td>\n",
       "    </tr>\n",
       "    <tr>\n",
       "      <th>14</th>\n",
       "      <td>2.0000</td>\n",
       "      <td>-1362.059043</td>\n",
       "      <td>-1770.593569</td>\n",
       "      <td>10</td>\n",
       "    </tr>\n",
       "    <tr>\n",
       "      <th>15</th>\n",
       "      <td>3.0000</td>\n",
       "      <td>-1505.154171</td>\n",
       "      <td>-1898.023359</td>\n",
       "      <td>14</td>\n",
       "    </tr>\n",
       "    <tr>\n",
       "      <th>16</th>\n",
       "      <td>4.0000</td>\n",
       "      <td>-1622.233797</td>\n",
       "      <td>-2010.487971</td>\n",
       "      <td>17</td>\n",
       "    </tr>\n",
       "    <tr>\n",
       "      <th>17</th>\n",
       "      <td>5.0000</td>\n",
       "      <td>-1720.346871</td>\n",
       "      <td>-2105.003662</td>\n",
       "      <td>18</td>\n",
       "    </tr>\n",
       "    <tr>\n",
       "      <th>18</th>\n",
       "      <td>6.0000</td>\n",
       "      <td>-1807.480114</td>\n",
       "      <td>-2185.384124</td>\n",
       "      <td>19</td>\n",
       "    </tr>\n",
       "    <tr>\n",
       "      <th>19</th>\n",
       "      <td>7.0000</td>\n",
       "      <td>-1886.005693</td>\n",
       "      <td>-2254.385504</td>\n",
       "      <td>20</td>\n",
       "    </tr>\n",
       "    <tr>\n",
       "      <th>20</th>\n",
       "      <td>8.0000</td>\n",
       "      <td>-1955.692215</td>\n",
       "      <td>-2313.976216</td>\n",
       "      <td>21</td>\n",
       "    </tr>\n",
       "    <tr>\n",
       "      <th>21</th>\n",
       "      <td>9.0000</td>\n",
       "      <td>-2019.883438</td>\n",
       "      <td>-2367.671535</td>\n",
       "      <td>22</td>\n",
       "    </tr>\n",
       "    <tr>\n",
       "      <th>22</th>\n",
       "      <td>10.0000</td>\n",
       "      <td>-2078.347703</td>\n",
       "      <td>-2417.196442</td>\n",
       "      <td>23</td>\n",
       "    </tr>\n",
       "    <tr>\n",
       "      <th>23</th>\n",
       "      <td>20.0000</td>\n",
       "      <td>-2486.958910</td>\n",
       "      <td>-2761.546466</td>\n",
       "      <td>24</td>\n",
       "    </tr>\n",
       "    <tr>\n",
       "      <th>24</th>\n",
       "      <td>50.0000</td>\n",
       "      <td>-3148.570727</td>\n",
       "      <td>-3317.455716</td>\n",
       "      <td>25</td>\n",
       "    </tr>\n",
       "  </tbody>\n",
       "</table>\n",
       "</div>"
      ],
      "text/plain": [
       "    param_alpha  mean_train_score  mean_test_score  rank_test_score\n",
       "0        0.0001       -908.222360     -1971.752135               16\n",
       "1        0.0010       -907.493626     -1928.075463               15\n",
       "2        0.0100       -915.644771     -1801.770695               13\n",
       "3        0.0500       -950.129099     -1795.453402               12\n",
       "4        0.1000       -981.693787     -1777.775523               11\n",
       "5        0.2000      -1023.950814     -1743.009626                9\n",
       "6        0.3000      -1056.952632     -1721.460881                8\n",
       "7        0.4000      -1084.419464     -1706.305568                7\n",
       "8        0.5000      -1107.476244     -1694.008609                6\n",
       "9        0.6000      -1127.561665     -1687.782543                5\n",
       "10       0.7000      -1145.884889     -1683.129558                3\n",
       "11       0.8000      -1163.773844     -1682.239994                1\n",
       "12       0.9000      -1180.762279     -1682.857570                2\n",
       "13       1.0000      -1197.338033     -1683.179549                4\n",
       "14       2.0000      -1362.059043     -1770.593569               10\n",
       "15       3.0000      -1505.154171     -1898.023359               14\n",
       "16       4.0000      -1622.233797     -2010.487971               17\n",
       "17       5.0000      -1720.346871     -2105.003662               18\n",
       "18       6.0000      -1807.480114     -2185.384124               19\n",
       "19       7.0000      -1886.005693     -2254.385504               20\n",
       "20       8.0000      -1955.692215     -2313.976216               21\n",
       "21       9.0000      -2019.883438     -2367.671535               22\n",
       "22      10.0000      -2078.347703     -2417.196442               23\n",
       "23      20.0000      -2486.958910     -2761.546466               24\n",
       "24      50.0000      -3148.570727     -3317.455716               25"
      ]
     },
     "execution_count": 90,
     "metadata": {},
     "output_type": "execute_result"
    }
   ],
   "source": [
    "cv_results[['param_alpha','mean_train_score','mean_test_score','rank_test_score']].head(25)"
   ]
  },
  {
   "cell_type": "code",
   "execution_count": 72,
   "metadata": {},
   "outputs": [],
   "source": [
    "cv_results['param_alpha']=cv_results['param_alpha'].astype('float')"
   ]
  },
  {
   "cell_type": "code",
   "execution_count": 89,
   "metadata": {},
   "outputs": [
    {
     "data": {
      "image/png": "[encoded data removed]",
      "text/plain": [
       "<Figure size 720x576 with 1 Axes>"
      ]
     },
     "metadata": {
      "needs_background": "light"
     },
     "output_type": "display_data"
    }
   ],
   "source": [
    "plt.figure(figsize=(10,8))\n",
    "plt.plot(cv_results['param_alpha'],cv_results['mean_train_score'])\n",
    "plt.plot(cv_results['param_alpha'],cv_results['mean_test_score'])\n",
    "#plt.vlines(x=1,ymin=-4000,ymax=0)\n",
    "plt.xlabel('alpha')\n",
    "plt.ylabel('Negative Mean Absolute Error')\n",
    "plt.title(\"Negative Mean Absolute Error and alpha\")\n",
    "plt.legend(['train score', 'test score'], loc='upper left')\n",
    "plt.show()"
   ]
  },
  {
   "cell_type": "code",
   "execution_count": 104,
   "metadata": {},
   "outputs": [
    {
     "data": {
      "text/plain": [
       "array([ 6.92187843e+02, -6.61947153e+02, -8.46464423e+02,  8.72111671e+02,\n",
       "       -5.26654895e+03,  3.35740118e+03,  8.90981246e+02,  5.28614115e+03,\n",
       "        5.45424640e+02,  4.67746410e+03,  4.43418271e+03,  6.70067843e+03,\n",
       "       -9.25175364e+02, -9.18871701e+02, -5.52360466e+02,  4.45744854e+03,\n",
       "        8.68068113e+02, -4.84006718e+02, -6.36247187e+02,  2.30076497e+03,\n",
       "       -1.51350528e+03, -1.37601585e+03, -2.34501323e+03, -7.89994259e+02,\n",
       "        1.02701182e+03, -2.45354302e+02, -1.85883065e+03, -3.37233679e+02,\n",
       "        1.65792280e+03,  3.48433881e+02,  8.98682199e+02, -5.91593606e+02,\n",
       "       -3.32385928e+00,  8.98682199e+02,  6.61947153e+02,  0.00000000e+00,\n",
       "       -1.08352285e+01, -1.87250448e+02, -7.05832238e+02,  8.96737045e+02,\n",
       "        5.34502280e+03,  6.14834304e+03, -6.45638441e+02, -9.86552269e+02,\n",
       "        2.12729419e+02, -1.08773037e+03,  4.60251937e+03, -4.70025401e+02,\n",
       "       -1.85945921e+03, -1.83281943e+03, -1.85883065e+03, -1.66845965e+03,\n",
       "        5.43385687e+03, -7.12362151e+02,  3.51205907e+02, -3.60862614e+03,\n",
       "       -2.54977014e+03, -1.34295055e+03, -1.26782888e+03])"
      ]
     },
     "execution_count": 104,
     "metadata": {},
     "output_type": "execute_result"
    }
   ],
   "source": [
    "alpha = 0.8\n",
    "ridge = Ridge(alpha=alpha)\n",
    "\n",
    "ridge.fit(X_train_scaled,y_train)\n",
    "ridge.coef_"
   ]
  },
  {
   "cell_type": "markdown",
   "metadata": {},
   "source": [
    "## Lasso Regression"
   ]
  },
  {
   "cell_type": "code",
   "execution_count": 92,
   "metadata": {},
   "outputs": [],
   "source": [
    "lasso_model=Lasso()\n",
    "folds=KFold(n_splits=5,shuffle=True,random_state=100)"
   ]
  },
  {
   "cell_type": "code",
   "execution_count": 93,
   "metadata": {},
   "outputs": [],
   "source": [
    "params = {'alpha': [0.0001, 0.001, 0.01, 0.05, 0.1, \n",
    " 0.2, 0.3, 0.4, 0.5, 0.6, 0.7, 0.8, 0.9, 1.0, 2.0, 3.0, \n",
    " 4.0, 5.0, 6.0, 7.0, 8.0, 9.0, 10.0, 20, 50, 100, 500, 1000 ]}"
   ]
  },
  {
   "cell_type": "code",
   "execution_count": 94,
   "metadata": {},
   "outputs": [],
   "source": [
    "model_cv=GridSearchCV(estimator=lasso_model,\n",
    "             param_grid=params,\n",
    "             verbose=1,\n",
    "             cv=folds,\n",
    "             scoring='neg_mean_absolute_error',\n",
    "             return_train_score=True)"
   ]
  },
  {
   "cell_type": "code",
   "execution_count": 96,
   "metadata": {},
   "outputs": [
    {
     "name": "stdout",
     "output_type": "stream",
     "text": [
      "Fitting 5 folds for each of 28 candidates, totalling 140 fits\n"
     ]
    },
    {
     "name": "stderr",
     "output_type": "stream",
     "text": [
      "[Parallel(n_jobs=1)]: Using backend SequentialBackend with 1 concurrent workers.\n",
      "[Parallel(n_jobs=1)]: Done 140 out of 140 | elapsed:    0.9s finished\n"
     ]
    },
    {
     "data": {
      "text/plain": [
       "GridSearchCV(cv=KFold(n_splits=5, random_state=100, shuffle=True),\n",
       "             error_score='raise-deprecating',\n",
       "             estimator=Lasso(alpha=1.0, copy_X=True, fit_intercept=True,\n",
       "                             max_iter=1000, normalize=False, positive=False,\n",
       "                             precompute=False, random_state=None,\n",
       "                             selection='cyclic', tol=0.0001, warm_start=False),\n",
       "             iid='warn', n_jobs=None,\n",
       "             param_grid={'alpha': [0.0001, 0.001, 0.01, 0.05, 0.1, 0.2, 0.3,\n",
       "                                   0.4, 0.5, 0.6, 0.7, 0.8, 0.9, 1.0, 2.0, 3.0,\n",
       "                                   4.0, 5.0, 6.0, 7.0, 8.0, 9.0, 10.0, 20, 50,\n",
       "                                   100, 500, 1000]},\n",
       "             pre_dispatch='2*n_jobs', refit=True, return_train_score=True,\n",
       "             scoring='neg_mean_absolute_error', verbose=1)"
      ]
     },
     "execution_count": 96,
     "metadata": {},
     "output_type": "execute_result"
    }
   ],
   "source": [
    "model_cv.fit(X_train_scaled,y_train)"
   ]
  },
  {
   "cell_type": "code",
   "execution_count": 99,
   "metadata": {},
   "outputs": [
    {
     "data": {
      "text/html": [
       "<div>\n",
       "<style scoped>\n",
       "    .dataframe tbody tr th:only-of-type {\n",
       "        vertical-align: middle;\n",
       "    }\n",
       "\n",
       "    .dataframe tbody tr th {\n",
       "        vertical-align: top;\n",
       "    }\n",
       "\n",
       "    .dataframe thead th {\n",
       "        text-align: right;\n",
       "    }\n",
       "</style>\n",
       "<table border=\"1\" class=\"dataframe\">\n",
       "  <thead>\n",
       "    <tr style=\"text-align: right;\">\n",
       "      <th></th>\n",
       "      <th>mean_fit_time</th>\n",
       "      <th>std_fit_time</th>\n",
       "      <th>mean_score_time</th>\n",
       "      <th>std_score_time</th>\n",
       "      <th>param_alpha</th>\n",
       "      <th>params</th>\n",
       "      <th>split0_test_score</th>\n",
       "      <th>split1_test_score</th>\n",
       "      <th>split2_test_score</th>\n",
       "      <th>split3_test_score</th>\n",
       "      <th>...</th>\n",
       "      <th>mean_test_score</th>\n",
       "      <th>std_test_score</th>\n",
       "      <th>rank_test_score</th>\n",
       "      <th>split0_train_score</th>\n",
       "      <th>split1_train_score</th>\n",
       "      <th>split2_train_score</th>\n",
       "      <th>split3_train_score</th>\n",
       "      <th>split4_train_score</th>\n",
       "      <th>mean_train_score</th>\n",
       "      <th>std_train_score</th>\n",
       "    </tr>\n",
       "  </thead>\n",
       "  <tbody>\n",
       "    <tr>\n",
       "      <th>0</th>\n",
       "      <td>0.004794</td>\n",
       "      <td>0.007746</td>\n",
       "      <td>0.000799</td>\n",
       "      <td>0.001598</td>\n",
       "      <td>0.0001</td>\n",
       "      <td>{'alpha': 0.0001}</td>\n",
       "      <td>-1716.324926</td>\n",
       "      <td>-1309.278193</td>\n",
       "      <td>-1513.084808</td>\n",
       "      <td>-3283.344260</td>\n",
       "      <td>...</td>\n",
       "      <td>-1971.752135</td>\n",
       "      <td>695.905472</td>\n",
       "      <td>16</td>\n",
       "      <td>-933.700234</td>\n",
       "      <td>-1070.537107</td>\n",
       "      <td>-947.775622</td>\n",
       "      <td>-795.322903</td>\n",
       "      <td>-793.775934</td>\n",
       "      <td>-908.222360</td>\n",
       "      <td>104.311008</td>\n",
       "    </tr>\n",
       "    <tr>\n",
       "      <th>1</th>\n",
       "      <td>0.001599</td>\n",
       "      <td>0.001959</td>\n",
       "      <td>0.001598</td>\n",
       "      <td>0.001957</td>\n",
       "      <td>0.0010</td>\n",
       "      <td>{'alpha': 0.001}</td>\n",
       "      <td>-1712.462510</td>\n",
       "      <td>-1294.778312</td>\n",
       "      <td>-1509.198067</td>\n",
       "      <td>-3086.577179</td>\n",
       "      <td>...</td>\n",
       "      <td>-1928.075463</td>\n",
       "      <td>627.548326</td>\n",
       "      <td>15</td>\n",
       "      <td>-931.953135</td>\n",
       "      <td>-1069.728715</td>\n",
       "      <td>-947.167421</td>\n",
       "      <td>-794.989485</td>\n",
       "      <td>-793.629373</td>\n",
       "      <td>-907.493626</td>\n",
       "      <td>104.033410</td>\n",
       "    </tr>\n",
       "    <tr>\n",
       "      <th>2</th>\n",
       "      <td>0.001598</td>\n",
       "      <td>0.001957</td>\n",
       "      <td>0.002397</td>\n",
       "      <td>0.001957</td>\n",
       "      <td>0.0100</td>\n",
       "      <td>{'alpha': 0.01}</td>\n",
       "      <td>-1675.215703</td>\n",
       "      <td>-1219.809146</td>\n",
       "      <td>-1502.705819</td>\n",
       "      <td>-2498.799322</td>\n",
       "      <td>...</td>\n",
       "      <td>-1801.770695</td>\n",
       "      <td>456.852777</td>\n",
       "      <td>13</td>\n",
       "      <td>-927.475667</td>\n",
       "      <td>-1063.725574</td>\n",
       "      <td>-951.752836</td>\n",
       "      <td>-838.108558</td>\n",
       "      <td>-797.161219</td>\n",
       "      <td>-915.644771</td>\n",
       "      <td>93.190024</td>\n",
       "    </tr>\n",
       "    <tr>\n",
       "      <th>3</th>\n",
       "      <td>0.001598</td>\n",
       "      <td>0.001957</td>\n",
       "      <td>0.000799</td>\n",
       "      <td>0.001598</td>\n",
       "      <td>0.0500</td>\n",
       "      <td>{'alpha': 0.05}</td>\n",
       "      <td>-1598.287685</td>\n",
       "      <td>-1262.308253</td>\n",
       "      <td>-1555.971337</td>\n",
       "      <td>-2389.016604</td>\n",
       "      <td>...</td>\n",
       "      <td>-1795.453402</td>\n",
       "      <td>423.316836</td>\n",
       "      <td>12</td>\n",
       "      <td>-947.810673</td>\n",
       "      <td>-1072.122649</td>\n",
       "      <td>-1003.127228</td>\n",
       "      <td>-907.697897</td>\n",
       "      <td>-819.887049</td>\n",
       "      <td>-950.129099</td>\n",
       "      <td>85.393210</td>\n",
       "    </tr>\n",
       "    <tr>\n",
       "      <th>4</th>\n",
       "      <td>0.001598</td>\n",
       "      <td>0.001957</td>\n",
       "      <td>0.000000</td>\n",
       "      <td>0.000000</td>\n",
       "      <td>0.1000</td>\n",
       "      <td>{'alpha': 0.1}</td>\n",
       "      <td>-1563.387199</td>\n",
       "      <td>-1319.488208</td>\n",
       "      <td>-1575.828963</td>\n",
       "      <td>-2227.535700</td>\n",
       "      <td>...</td>\n",
       "      <td>-1777.775523</td>\n",
       "      <td>374.866609</td>\n",
       "      <td>11</td>\n",
       "      <td>-984.055564</td>\n",
       "      <td>-1090.998351</td>\n",
       "      <td>-1041.309897</td>\n",
       "      <td>-945.224541</td>\n",
       "      <td>-846.880581</td>\n",
       "      <td>-981.693787</td>\n",
       "      <td>83.680048</td>\n",
       "    </tr>\n",
       "  </tbody>\n",
       "</table>\n",
       "<p>5 rows × 21 columns</p>\n",
       "</div>"
      ],
      "text/plain": [
       "   mean_fit_time  std_fit_time  mean_score_time  std_score_time  param_alpha  \\\n",
       "0       0.004794      0.007746         0.000799        0.001598       0.0001   \n",
       "1       0.001599      0.001959         0.001598        0.001957       0.0010   \n",
       "2       0.001598      0.001957         0.002397        0.001957       0.0100   \n",
       "3       0.001598      0.001957         0.000799        0.001598       0.0500   \n",
       "4       0.001598      0.001957         0.000000        0.000000       0.1000   \n",
       "\n",
       "              params  split0_test_score  split1_test_score  split2_test_score  \\\n",
       "0  {'alpha': 0.0001}       -1716.324926       -1309.278193       -1513.084808   \n",
       "1   {'alpha': 0.001}       -1712.462510       -1294.778312       -1509.198067   \n",
       "2    {'alpha': 0.01}       -1675.215703       -1219.809146       -1502.705819   \n",
       "3    {'alpha': 0.05}       -1598.287685       -1262.308253       -1555.971337   \n",
       "4     {'alpha': 0.1}       -1563.387199       -1319.488208       -1575.828963   \n",
       "\n",
       "   split3_test_score  ...  mean_test_score  std_test_score  rank_test_score  \\\n",
       "0       -3283.344260  ...     -1971.752135      695.905472               16   \n",
       "1       -3086.577179  ...     -1928.075463      627.548326               15   \n",
       "2       -2498.799322  ...     -1801.770695      456.852777               13   \n",
       "3       -2389.016604  ...     -1795.453402      423.316836               12   \n",
       "4       -2227.535700  ...     -1777.775523      374.866609               11   \n",
       "\n",
       "   split0_train_score  split1_train_score  split2_train_score  \\\n",
       "0         -933.700234        -1070.537107         -947.775622   \n",
       "1         -931.953135        -1069.728715         -947.167421   \n",
       "2         -927.475667        -1063.725574         -951.752836   \n",
       "3         -947.810673        -1072.122649        -1003.127228   \n",
       "4         -984.055564        -1090.998351        -1041.309897   \n",
       "\n",
       "   split3_train_score  split4_train_score  mean_train_score  std_train_score  \n",
       "0         -795.322903         -793.775934       -908.222360       104.311008  \n",
       "1         -794.989485         -793.629373       -907.493626       104.033410  \n",
       "2         -838.108558         -797.161219       -915.644771        93.190024  \n",
       "3         -907.697897         -819.887049       -950.129099        85.393210  \n",
       "4         -945.224541         -846.880581       -981.693787        83.680048  \n",
       "\n",
       "[5 rows x 21 columns]"
      ]
     },
     "execution_count": 99,
     "metadata": {},
     "output_type": "execute_result"
    }
   ],
   "source": [
    "ls_results = pd.DataFrame(model_cv.cv_results_)\n",
    "ls_results = cv_results[cv_results['param_alpha']<=200]\n",
    "ls_results.head()"
   ]
  },
  {
   "cell_type": "code",
   "execution_count": 106,
   "metadata": {},
   "outputs": [
    {
     "data": {
      "text/html": [
       "<div>\n",
       "<style scoped>\n",
       "    .dataframe tbody tr th:only-of-type {\n",
       "        vertical-align: middle;\n",
       "    }\n",
       "\n",
       "    .dataframe tbody tr th {\n",
       "        vertical-align: top;\n",
       "    }\n",
       "\n",
       "    .dataframe thead th {\n",
       "        text-align: right;\n",
       "    }\n",
       "</style>\n",
       "<table border=\"1\" class=\"dataframe\">\n",
       "  <thead>\n",
       "    <tr style=\"text-align: right;\">\n",
       "      <th></th>\n",
       "      <th>param_alpha</th>\n",
       "      <th>mean_train_score</th>\n",
       "      <th>mean_test_score</th>\n",
       "      <th>rank_test_score</th>\n",
       "    </tr>\n",
       "  </thead>\n",
       "  <tbody>\n",
       "    <tr>\n",
       "      <th>0</th>\n",
       "      <td>0.0001</td>\n",
       "      <td>-908.222360</td>\n",
       "      <td>-1971.752135</td>\n",
       "      <td>16</td>\n",
       "    </tr>\n",
       "    <tr>\n",
       "      <th>1</th>\n",
       "      <td>0.0010</td>\n",
       "      <td>-907.493626</td>\n",
       "      <td>-1928.075463</td>\n",
       "      <td>15</td>\n",
       "    </tr>\n",
       "    <tr>\n",
       "      <th>2</th>\n",
       "      <td>0.0100</td>\n",
       "      <td>-915.644771</td>\n",
       "      <td>-1801.770695</td>\n",
       "      <td>13</td>\n",
       "    </tr>\n",
       "    <tr>\n",
       "      <th>3</th>\n",
       "      <td>0.0500</td>\n",
       "      <td>-950.129099</td>\n",
       "      <td>-1795.453402</td>\n",
       "      <td>12</td>\n",
       "    </tr>\n",
       "    <tr>\n",
       "      <th>4</th>\n",
       "      <td>0.1000</td>\n",
       "      <td>-981.693787</td>\n",
       "      <td>-1777.775523</td>\n",
       "      <td>11</td>\n",
       "    </tr>\n",
       "    <tr>\n",
       "      <th>5</th>\n",
       "      <td>0.2000</td>\n",
       "      <td>-1023.950814</td>\n",
       "      <td>-1743.009626</td>\n",
       "      <td>9</td>\n",
       "    </tr>\n",
       "    <tr>\n",
       "      <th>6</th>\n",
       "      <td>0.3000</td>\n",
       "      <td>-1056.952632</td>\n",
       "      <td>-1721.460881</td>\n",
       "      <td>8</td>\n",
       "    </tr>\n",
       "    <tr>\n",
       "      <th>7</th>\n",
       "      <td>0.4000</td>\n",
       "      <td>-1084.419464</td>\n",
       "      <td>-1706.305568</td>\n",
       "      <td>7</td>\n",
       "    </tr>\n",
       "    <tr>\n",
       "      <th>8</th>\n",
       "      <td>0.5000</td>\n",
       "      <td>-1107.476244</td>\n",
       "      <td>-1694.008609</td>\n",
       "      <td>6</td>\n",
       "    </tr>\n",
       "    <tr>\n",
       "      <th>9</th>\n",
       "      <td>0.6000</td>\n",
       "      <td>-1127.561665</td>\n",
       "      <td>-1687.782543</td>\n",
       "      <td>5</td>\n",
       "    </tr>\n",
       "    <tr>\n",
       "      <th>10</th>\n",
       "      <td>0.7000</td>\n",
       "      <td>-1145.884889</td>\n",
       "      <td>-1683.129558</td>\n",
       "      <td>3</td>\n",
       "    </tr>\n",
       "    <tr>\n",
       "      <th>11</th>\n",
       "      <td>0.8000</td>\n",
       "      <td>-1163.773844</td>\n",
       "      <td>-1682.239994</td>\n",
       "      <td>1</td>\n",
       "    </tr>\n",
       "    <tr>\n",
       "      <th>12</th>\n",
       "      <td>0.9000</td>\n",
       "      <td>-1180.762279</td>\n",
       "      <td>-1682.857570</td>\n",
       "      <td>2</td>\n",
       "    </tr>\n",
       "    <tr>\n",
       "      <th>13</th>\n",
       "      <td>1.0000</td>\n",
       "      <td>-1197.338033</td>\n",
       "      <td>-1683.179549</td>\n",
       "      <td>4</td>\n",
       "    </tr>\n",
       "    <tr>\n",
       "      <th>14</th>\n",
       "      <td>2.0000</td>\n",
       "      <td>-1362.059043</td>\n",
       "      <td>-1770.593569</td>\n",
       "      <td>10</td>\n",
       "    </tr>\n",
       "    <tr>\n",
       "      <th>15</th>\n",
       "      <td>3.0000</td>\n",
       "      <td>-1505.154171</td>\n",
       "      <td>-1898.023359</td>\n",
       "      <td>14</td>\n",
       "    </tr>\n",
       "    <tr>\n",
       "      <th>16</th>\n",
       "      <td>4.0000</td>\n",
       "      <td>-1622.233797</td>\n",
       "      <td>-2010.487971</td>\n",
       "      <td>17</td>\n",
       "    </tr>\n",
       "    <tr>\n",
       "      <th>17</th>\n",
       "      <td>5.0000</td>\n",
       "      <td>-1720.346871</td>\n",
       "      <td>-2105.003662</td>\n",
       "      <td>18</td>\n",
       "    </tr>\n",
       "    <tr>\n",
       "      <th>18</th>\n",
       "      <td>6.0000</td>\n",
       "      <td>-1807.480114</td>\n",
       "      <td>-2185.384124</td>\n",
       "      <td>19</td>\n",
       "    </tr>\n",
       "    <tr>\n",
       "      <th>19</th>\n",
       "      <td>7.0000</td>\n",
       "      <td>-1886.005693</td>\n",
       "      <td>-2254.385504</td>\n",
       "      <td>20</td>\n",
       "    </tr>\n",
       "    <tr>\n",
       "      <th>20</th>\n",
       "      <td>8.0000</td>\n",
       "      <td>-1955.692215</td>\n",
       "      <td>-2313.976216</td>\n",
       "      <td>21</td>\n",
       "    </tr>\n",
       "    <tr>\n",
       "      <th>21</th>\n",
       "      <td>9.0000</td>\n",
       "      <td>-2019.883438</td>\n",
       "      <td>-2367.671535</td>\n",
       "      <td>22</td>\n",
       "    </tr>\n",
       "    <tr>\n",
       "      <th>22</th>\n",
       "      <td>10.0000</td>\n",
       "      <td>-2078.347703</td>\n",
       "      <td>-2417.196442</td>\n",
       "      <td>23</td>\n",
       "    </tr>\n",
       "    <tr>\n",
       "      <th>23</th>\n",
       "      <td>20.0000</td>\n",
       "      <td>-2486.958910</td>\n",
       "      <td>-2761.546466</td>\n",
       "      <td>24</td>\n",
       "    </tr>\n",
       "    <tr>\n",
       "      <th>24</th>\n",
       "      <td>50.0000</td>\n",
       "      <td>-3148.570727</td>\n",
       "      <td>-3317.455716</td>\n",
       "      <td>25</td>\n",
       "    </tr>\n",
       "  </tbody>\n",
       "</table>\n",
       "</div>"
      ],
      "text/plain": [
       "    param_alpha  mean_train_score  mean_test_score  rank_test_score\n",
       "0        0.0001       -908.222360     -1971.752135               16\n",
       "1        0.0010       -907.493626     -1928.075463               15\n",
       "2        0.0100       -915.644771     -1801.770695               13\n",
       "3        0.0500       -950.129099     -1795.453402               12\n",
       "4        0.1000       -981.693787     -1777.775523               11\n",
       "5        0.2000      -1023.950814     -1743.009626                9\n",
       "6        0.3000      -1056.952632     -1721.460881                8\n",
       "7        0.4000      -1084.419464     -1706.305568                7\n",
       "8        0.5000      -1107.476244     -1694.008609                6\n",
       "9        0.6000      -1127.561665     -1687.782543                5\n",
       "10       0.7000      -1145.884889     -1683.129558                3\n",
       "11       0.8000      -1163.773844     -1682.239994                1\n",
       "12       0.9000      -1180.762279     -1682.857570                2\n",
       "13       1.0000      -1197.338033     -1683.179549                4\n",
       "14       2.0000      -1362.059043     -1770.593569               10\n",
       "15       3.0000      -1505.154171     -1898.023359               14\n",
       "16       4.0000      -1622.233797     -2010.487971               17\n",
       "17       5.0000      -1720.346871     -2105.003662               18\n",
       "18       6.0000      -1807.480114     -2185.384124               19\n",
       "19       7.0000      -1886.005693     -2254.385504               20\n",
       "20       8.0000      -1955.692215     -2313.976216               21\n",
       "21       9.0000      -2019.883438     -2367.671535               22\n",
       "22      10.0000      -2078.347703     -2417.196442               23\n",
       "23      20.0000      -2486.958910     -2761.546466               24\n",
       "24      50.0000      -3148.570727     -3317.455716               25"
      ]
     },
     "execution_count": 106,
     "metadata": {},
     "output_type": "execute_result"
    }
   ],
   "source": [
    "ls_results[['param_alpha','mean_train_score','mean_test_score','rank_test_score']].head(25)"
   ]
  },
  {
   "cell_type": "code",
   "execution_count": 107,
   "metadata": {},
   "outputs": [
    {
     "data": {
      "image/png": "[encoded data removed]",
      "text/plain": [
       "<Figure size 720x576 with 1 Axes>"
      ]
     },
     "metadata": {
      "needs_background": "light"
     },
     "output_type": "display_data"
    }
   ],
   "source": [
    "ls_results['param_alpha']=ls_results['param_alpha'].astype('float')\n",
    "plt.figure(figsize=(10,8))\n",
    "plt.plot(ls_results['param_alpha'],ls_results['mean_train_score'])\n",
    "plt.plot(ls_results['param_alpha'],ls_results['mean_test_score'])\n",
    "#plt.vlines(x=1,ymin=-4000,ymax=0)\n",
    "plt.xlabel('alpha')\n",
    "plt.ylabel('Negative Mean Absolute Error')\n",
    "plt.title(\"Negative Mean Absolute Error and alpha\")\n",
    "plt.legend(['train score', 'test score'], loc='upper left')\n",
    "plt.show()"
   ]
  },
  {
   "cell_type": "code",
   "execution_count": 112,
   "metadata": {},
   "outputs": [
    {
     "data": {
      "text/plain": [
       "array([ 0.0000e+00, -0.0000e+00, -8.3400e+02,  5.7800e+02, -9.5420e+03,\n",
       "        2.0540e+03,  0.0000e+00,  7.9450e+03,  0.0000e+00,  4.1070e+03,\n",
       "        0.0000e+00,  1.3437e+04, -2.1970e+03, -3.0000e+02,  0.0000e+00,\n",
       "        3.9990e+03,  6.1000e+02, -0.0000e+00, -0.0000e+00,  2.9380e+03,\n",
       "       -3.1900e+02,  0.0000e+00, -7.0600e+02, -1.0970e+03,  3.1400e+02,\n",
       "        1.2600e+02, -1.2890e+03, -2.6900e+02,  0.0000e+00,  0.0000e+00,\n",
       "        1.4040e+03, -0.0000e+00, -9.0000e+01,  1.0000e+00,  0.0000e+00,\n",
       "        0.0000e+00,  0.0000e+00, -0.0000e+00,  0.0000e+00,  1.3750e+03,\n",
       "        7.3510e+03,  7.7810e+03, -0.0000e+00, -0.0000e+00,  0.0000e+00,\n",
       "       -0.0000e+00,  4.5780e+03,  3.7000e+02, -1.3200e+03, -7.2000e+02,\n",
       "       -4.8000e+02, -7.4000e+02,  6.0700e+03, -0.0000e+00,  1.3010e+03,\n",
       "       -7.8600e+02, -1.3010e+03, -1.0000e+02,  0.0000e+00])"
      ]
     },
     "execution_count": 112,
     "metadata": {},
     "output_type": "execute_result"
    }
   ],
   "source": [
    "alpha = 15\n",
    "lasso = Lasso(alpha=alpha)\n",
    "\n",
    "lasso.fit(X_train_scaled,y_train)\n",
    "lasso.coef_"
   ]
  },
  {
   "cell_type": "code",
   "execution_count": null,
   "metadata": {},
   "outputs": [],
   "source": []
  }
 ],
 "metadata": {
  "kernelspec": {
   "display_name": "Python 3",
   "language": "python",
   "name": "python3"
  },
  "language_info": {
   "codemirror_mode": {
    "name": "ipython",
    "version": 3
   },
   "file_extension": ".py",
   "mimetype": "text/x-python",
   "name": "python",
   "nbconvert_exporter": "python",
   "pygments_lexer": "ipython3",
   "version": "3.7.3"
  }
 },
 "nbformat": 4,
 "nbformat_minor": 2
}
