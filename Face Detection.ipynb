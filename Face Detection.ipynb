{
 "cells": [
  {
   "cell_type": "code",
   "execution_count": null,
   "metadata": {},
   "outputs": [],
   "source": [
    "import cv2\n",
    "import numpy as np\n",
    "face_cascade=cv2.CascadeClassifier(\"C:\\\\Users\\\\k.divakar.reddy\\\\AppData\\\\Local\\\\Continuum\\\\anaconda3\\\\Lib\\\\site-packages\\\\cv2\\\\data\\\\haarcascades\\\\haarcascade_frontalface_alt.xml\")\n",
    "eye_cascade=cv2.CascadeClassifier(\"C:\\\\Users\\\\k.divakar.reddy\\\\AppData\\\\Local\\\\Continuum\\\\anaconda3\\\\Lib\\\\site-packages\\\\cv2\\\\data\\\\haarcascades\\\\haarcascade_eye.xml\")\n",
    "video=cv2.VideoCapture(0)\n",
    "while True:\n",
    "    check ,frame=video.read()\n",
    "    if check:\n",
    "        gray_image=cv2.cvtColor(frame,cv2.COLOR_BGR2GRAY)\n",
    "        faces=face_cascade.detectMultiScale(gray_image,scaleFactor=1.05,minNeighbors=5)\n",
    "        for x,y,h,w in faces:\n",
    "            cv2.rectangle(frame,(x,y),(x+h,y+w),(0,255,0),3)\n",
    "            roi_gray = gray_image[y:y+h, x:x+w]\n",
    "            roi_color = frame[y:y+h, x:x+w]\n",
    "            eyes = eye_cascade.detectMultiScale(roi_gray)\n",
    "            for ex,ey,eh,ew in eyes:\n",
    "                cv2.rectangle(roi_color,(ex,ey),(ex+eh,ey+ew),(255,0,0),3)\n",
    "    else:\n",
    "        print(\"Please check your webcam\")\n",
    "        break\n",
    "    cv2.imshow(\"Face\",frame)    \n",
    "    key=cv2.waitKey(1)\n",
    "    if key==ord('q'):\n",
    "        break\n",
    "video.release()\n",
    "cv2.destroyAllWindows()"
   ]
  },
  {
   "cell_type": "code",
   "execution_count": 4,
   "metadata": {},
   "outputs": [],
   "source": []
  },
  {
   "cell_type": "code",
   "execution_count": null,
   "metadata": {},
   "outputs": [],
   "source": []
  }
 ],
 "metadata": {
  "kernelspec": {
   "display_name": "Python 3",
   "language": "python",
   "name": "python3"
  },
  "language_info": {
   "codemirror_mode": {
    "name": "ipython",
    "version": 3
   },
   "file_extension": ".py",
   "mimetype": "text/x-python",
   "name": "python",
   "nbconvert_exporter": "python",
   "pygments_lexer": "ipython3",
   "version": "3.7.0"
  }
 },
 "nbformat": 4,
 "nbformat_minor": 2
}
